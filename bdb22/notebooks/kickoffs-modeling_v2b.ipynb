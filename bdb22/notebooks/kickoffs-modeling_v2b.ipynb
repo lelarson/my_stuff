{
 "cells": [
  {
   "cell_type": "markdown",
   "id": "b836f143-977b-4ed0-b847-bde0110aab75",
   "metadata": {},
   "source": [
    "this notebook is pretty much the same as v1 but I'm reducing the number of observations in the positive class"
   ]
  },
  {
   "cell_type": "code",
   "execution_count": 1,
   "id": "d2ad212e-f56b-40c2-b33d-9c0d9ae34856",
   "metadata": {},
   "outputs": [],
   "source": [
    "#imports\n",
    "from fastai.vision.all  import *\n",
    "from pathlib import Path\n",
    "import pandas as pd"
   ]
  },
  {
   "cell_type": "markdown",
   "id": "c55e9aaf-bc92-4462-b991-2c647f66c661",
   "metadata": {},
   "source": [
    "# data"
   ]
  },
  {
   "cell_type": "code",
   "execution_count": 2,
   "id": "4b2a911e-bd15-4101-a3b7-b1e811f1fbc9",
   "metadata": {},
   "outputs": [
    {
     "name": "stdout",
     "output_type": "stream",
     "text": [
      "kickoff_returns_v1\t\tkickoff_returns_v2_frame_sub60\n",
      "kickoff_returns_v2_frame_sub10\tkickoff_returns_v2_frame_sub70\n",
      "kickoff_returns_v2_frame_sub20\tkickoff_returns_v2_frame_sub80\n",
      "kickoff_returns_v2_frame_sub30\tkickoff_returns_v2_frame_sub90\n",
      "kickoff_returns_v2_frame_sub40\tplays.csv\n",
      "kickoff_returns_v2_frame_sub50\tv1\n"
     ]
    }
   ],
   "source": [
    "!ls ../../../data/kickoffs"
   ]
  },
  {
   "cell_type": "code",
   "execution_count": 3,
   "id": "2dcf9920-86b0-4ea3-a625-dae611dec91a",
   "metadata": {},
   "outputs": [],
   "source": [
    "# import cv2\n",
    "# im = cv2.imread('kickoffs/v1/2018090900_1992.png')\n",
    "# print('width: ', im.shape[1])\n",
    "# print('height:', im.shape[0])"
   ]
  },
  {
   "cell_type": "code",
   "execution_count": 4,
   "id": "0033af48-5c0d-4eda-9827-3f0528431761",
   "metadata": {},
   "outputs": [
    {
     "data": {
      "text/html": [
       "<div>\n",
       "<style scoped>\n",
       "    .dataframe tbody tr th:only-of-type {\n",
       "        vertical-align: middle;\n",
       "    }\n",
       "\n",
       "    .dataframe tbody tr th {\n",
       "        vertical-align: top;\n",
       "    }\n",
       "\n",
       "    .dataframe thead th {\n",
       "        text-align: right;\n",
       "    }\n",
       "</style>\n",
       "<table border=\"1\" class=\"dataframe\">\n",
       "  <thead>\n",
       "    <tr style=\"text-align: right;\">\n",
       "      <th></th>\n",
       "      <th>gameId</th>\n",
       "      <th>playId</th>\n",
       "      <th>playDescription</th>\n",
       "      <th>quarter</th>\n",
       "      <th>down</th>\n",
       "      <th>yardsToGo</th>\n",
       "      <th>possessionTeam</th>\n",
       "      <th>specialTeamsPlayType</th>\n",
       "      <th>specialTeamsResult</th>\n",
       "      <th>kickerId</th>\n",
       "      <th>...</th>\n",
       "      <th>penaltyCodes</th>\n",
       "      <th>penaltyJerseyNumbers</th>\n",
       "      <th>penaltyYards</th>\n",
       "      <th>preSnapHomeScore</th>\n",
       "      <th>preSnapVisitorScore</th>\n",
       "      <th>passResult</th>\n",
       "      <th>kickLength</th>\n",
       "      <th>kickReturnYardage</th>\n",
       "      <th>playResult</th>\n",
       "      <th>absoluteYardlineNumber</th>\n",
       "    </tr>\n",
       "  </thead>\n",
       "  <tbody>\n",
       "    <tr>\n",
       "      <th>0</th>\n",
       "      <td>2018090600</td>\n",
       "      <td>37</td>\n",
       "      <td>J.Elliott kicks 65 yards from PHI 35 to end zone, Touchback.</td>\n",
       "      <td>1</td>\n",
       "      <td>0</td>\n",
       "      <td>0</td>\n",
       "      <td>PHI</td>\n",
       "      <td>Kickoff</td>\n",
       "      <td>Touchback</td>\n",
       "      <td>44966.0</td>\n",
       "      <td>...</td>\n",
       "      <td>NaN</td>\n",
       "      <td>NaN</td>\n",
       "      <td>NaN</td>\n",
       "      <td>0</td>\n",
       "      <td>0</td>\n",
       "      <td>NaN</td>\n",
       "      <td>66.0</td>\n",
       "      <td>NaN</td>\n",
       "      <td>40</td>\n",
       "      <td>45</td>\n",
       "    </tr>\n",
       "    <tr>\n",
       "      <th>1</th>\n",
       "      <td>2018090600</td>\n",
       "      <td>366</td>\n",
       "      <td>(9:20) C.Johnston punts 56 yards to ATL 36, Center-R.Lovato. J.Hardy to ATL 41 for 5 yards (K.Grugier-Hill). PENALTY on PHI-S.Gibson, Unsportsmanlike Conduct, 15 yards, enforced at ATL 41.</td>\n",
       "      <td>1</td>\n",
       "      <td>4</td>\n",
       "      <td>4</td>\n",
       "      <td>PHI</td>\n",
       "      <td>Punt</td>\n",
       "      <td>Return</td>\n",
       "      <td>45603.0</td>\n",
       "      <td>...</td>\n",
       "      <td>UNSd</td>\n",
       "      <td>PHI 18</td>\n",
       "      <td>-15.0</td>\n",
       "      <td>0</td>\n",
       "      <td>0</td>\n",
       "      <td>NaN</td>\n",
       "      <td>56.0</td>\n",
       "      <td>5.0</td>\n",
       "      <td>36</td>\n",
       "      <td>18</td>\n",
       "    </tr>\n",
       "  </tbody>\n",
       "</table>\n",
       "<p>2 rows × 25 columns</p>\n",
       "</div>"
      ],
      "text/plain": [
       "       gameId  playId  \\\n",
       "0  2018090600      37   \n",
       "1  2018090600     366   \n",
       "\n",
       "                                                                                                                                                                                playDescription  \\\n",
       "0                                                                                                                                  J.Elliott kicks 65 yards from PHI 35 to end zone, Touchback.   \n",
       "1  (9:20) C.Johnston punts 56 yards to ATL 36, Center-R.Lovato. J.Hardy to ATL 41 for 5 yards (K.Grugier-Hill). PENALTY on PHI-S.Gibson, Unsportsmanlike Conduct, 15 yards, enforced at ATL 41.   \n",
       "\n",
       "   quarter  down  yardsToGo possessionTeam specialTeamsPlayType  \\\n",
       "0        1     0          0            PHI              Kickoff   \n",
       "1        1     4          4            PHI                 Punt   \n",
       "\n",
       "  specialTeamsResult  kickerId  ... penaltyCodes  penaltyJerseyNumbers  \\\n",
       "0          Touchback   44966.0  ...          NaN                   NaN   \n",
       "1             Return   45603.0  ...         UNSd                PHI 18   \n",
       "\n",
       "  penaltyYards  preSnapHomeScore preSnapVisitorScore passResult kickLength  \\\n",
       "0          NaN                 0                   0        NaN       66.0   \n",
       "1        -15.0                 0                   0        NaN       56.0   \n",
       "\n",
       "   kickReturnYardage  playResult  absoluteYardlineNumber  \n",
       "0                NaN          40                      45  \n",
       "1                5.0          36                      18  \n",
       "\n",
       "[2 rows x 25 columns]"
      ]
     },
     "execution_count": 4,
     "metadata": {},
     "output_type": "execute_result"
    }
   ],
   "source": [
    "data_path = '../../../data/kickoffs/'\n",
    "plays = pd.read_csv(data_path + 'plays.csv'); plays.head(2)"
   ]
  },
  {
   "cell_type": "code",
   "execution_count": 5,
   "id": "d9b3df0d-6462-416e-83cc-5033d685b3e1",
   "metadata": {},
   "outputs": [
    {
     "data": {
      "text/html": [
       "<div>\n",
       "<style scoped>\n",
       "    .dataframe tbody tr th:only-of-type {\n",
       "        vertical-align: middle;\n",
       "    }\n",
       "\n",
       "    .dataframe tbody tr th {\n",
       "        vertical-align: top;\n",
       "    }\n",
       "\n",
       "    .dataframe thead th {\n",
       "        text-align: right;\n",
       "    }\n",
       "</style>\n",
       "<table border=\"1\" class=\"dataframe\">\n",
       "  <thead>\n",
       "    <tr style=\"text-align: right;\">\n",
       "      <th></th>\n",
       "      <th>gameId</th>\n",
       "      <th>playId</th>\n",
       "      <th>playResult</th>\n",
       "      <th>fname</th>\n",
       "      <th>label</th>\n",
       "    </tr>\n",
       "  </thead>\n",
       "  <tbody>\n",
       "    <tr>\n",
       "      <th>3</th>\n",
       "      <td>2018090600</td>\n",
       "      <td>677</td>\n",
       "      <td>34</td>\n",
       "      <td>2018090600_677.png</td>\n",
       "      <td>0</td>\n",
       "    </tr>\n",
       "    <tr>\n",
       "      <th>9</th>\n",
       "      <td>2018090600</td>\n",
       "      <td>1606</td>\n",
       "      <td>60</td>\n",
       "      <td>2018090600_1606.png</td>\n",
       "      <td>0</td>\n",
       "    </tr>\n",
       "    <tr>\n",
       "      <th>24</th>\n",
       "      <td>2018090900</td>\n",
       "      <td>36</td>\n",
       "      <td>45</td>\n",
       "      <td>2018090900_36.png</td>\n",
       "      <td>0</td>\n",
       "    </tr>\n",
       "  </tbody>\n",
       "</table>\n",
       "</div>"
      ],
      "text/plain": [
       "        gameId  playId  playResult                fname  label\n",
       "3   2018090600     677          34   2018090600_677.png      0\n",
       "9   2018090600    1606          60  2018090600_1606.png      0\n",
       "24  2018090900      36          45    2018090900_36.png      0"
      ]
     },
     "execution_count": 5,
     "metadata": {},
     "output_type": "execute_result"
    }
   ],
   "source": [
    "df = plays.query('specialTeamsPlayType == \"Kickoff\" & specialTeamsResult == \"Return\"')[['gameId', 'playId', 'playResult']]\n",
    "df['fname'] = df.apply(lambda row: str(row.gameId) + '_' + str(row.playId) + '.png', axis=1)\n",
    "df['label'] = df.apply(lambda row: 1 if int(row.playResult) < 30 else 0 , axis=1)\n",
    "df.head(3)"
   ]
  },
  {
   "cell_type": "code",
   "execution_count": 6,
   "id": "1148e0f5-7078-4d6c-a1e4-62dc85dcc1d1",
   "metadata": {},
   "outputs": [
    {
     "data": {
      "text/html": [
       "<div>\n",
       "<style scoped>\n",
       "    .dataframe tbody tr th:only-of-type {\n",
       "        vertical-align: middle;\n",
       "    }\n",
       "\n",
       "    .dataframe tbody tr th {\n",
       "        vertical-align: top;\n",
       "    }\n",
       "\n",
       "    .dataframe thead th {\n",
       "        text-align: right;\n",
       "    }\n",
       "</style>\n",
       "<table border=\"1\" class=\"dataframe\">\n",
       "  <thead>\n",
       "    <tr style=\"text-align: right;\">\n",
       "      <th></th>\n",
       "      <th>fname</th>\n",
       "      <th>label</th>\n",
       "    </tr>\n",
       "  </thead>\n",
       "  <tbody>\n",
       "    <tr>\n",
       "      <th>3</th>\n",
       "      <td>2018090600_677.png</td>\n",
       "      <td>0</td>\n",
       "    </tr>\n",
       "    <tr>\n",
       "      <th>9</th>\n",
       "      <td>2018090600_1606.png</td>\n",
       "      <td>0</td>\n",
       "    </tr>\n",
       "    <tr>\n",
       "      <th>24</th>\n",
       "      <td>2018090900_36.png</td>\n",
       "      <td>0</td>\n",
       "    </tr>\n",
       "  </tbody>\n",
       "</table>\n",
       "</div>"
      ],
      "text/plain": [
       "                  fname  label\n",
       "3    2018090600_677.png      0\n",
       "9   2018090600_1606.png      0\n",
       "24    2018090900_36.png      0"
      ]
     },
     "execution_count": 6,
     "metadata": {},
     "output_type": "execute_result"
    }
   ],
   "source": [
    "df2 = df[['fname', 'label']]; df2.head(3)"
   ]
  },
  {
   "cell_type": "code",
   "execution_count": 7,
   "id": "84cb3999-4be8-40d4-ba30-6e0260bc53c0",
   "metadata": {},
   "outputs": [
    {
     "data": {
      "text/plain": [
       "405"
      ]
     },
     "execution_count": 7,
     "metadata": {},
     "output_type": "execute_result"
    }
   ],
   "source": [
    "sum(df2['label'])"
   ]
  },
  {
   "cell_type": "code",
   "execution_count": 8,
   "id": "8bc65336-0ada-465d-9908-dd1d6b94e747",
   "metadata": {},
   "outputs": [
    {
     "data": {
      "text/plain": [
       "2921"
      ]
     },
     "execution_count": 8,
     "metadata": {},
     "output_type": "execute_result"
    }
   ],
   "source": [
    "len(df2)"
   ]
  },
  {
   "cell_type": "code",
   "execution_count": 9,
   "id": "9a4c5117-a94a-4e7a-93ae-8b0b1e544f9c",
   "metadata": {},
   "outputs": [],
   "source": [
    "p = Path(data_path)\n",
    "dls_sub10 = ImageDataLoaders.from_df(df=df2, path=Path(data_path+'kickoff_returns_v2_frame_sub10'), bs=32)\n",
    "dls_sub20 = ImageDataLoaders.from_df(df=df2, path=Path(data_path+'kickoff_returns_v2_frame_sub20'), bs=32)\n",
    "dls_sub30 = ImageDataLoaders.from_df(df=df2, path=Path(data_path+'kickoff_returns_v2_frame_sub30'), bs=32)\n",
    "dls_sub40 = ImageDataLoaders.from_df(df=df2, path=Path(data_path+'kickoff_returns_v2_frame_sub40'), bs=32)\n",
    "dls_sub50 = ImageDataLoaders.from_df(df=df2, path=Path(data_path+'kickoff_returns_v2_frame_sub50'), bs=32)\n",
    "dls_sub60 = ImageDataLoaders.from_df(df=df2, path=Path(data_path+'kickoff_returns_v2_frame_sub60'), bs=32)\n",
    "dls_sub70 = ImageDataLoaders.from_df(df=df2, path=Path(data_path+'kickoff_returns_v2_frame_sub70'), bs=32)\n",
    "dls_sub80 = ImageDataLoaders.from_df(df=df2, path=Path(data_path+'kickoff_returns_v2_frame_sub80'), bs=32)\n",
    "dls_sub90 = ImageDataLoaders.from_df(df=df2, path=Path(data_path+'kickoff_returns_v2_frame_sub90'), bs=32)"
   ]
  },
  {
   "cell_type": "code",
   "execution_count": 10,
   "id": "67756507-3177-4f78-98b0-e0d260820188",
   "metadata": {},
   "outputs": [
    {
     "data": {
      "image/png": "[encoded data removed]",
      "text/plain": [
       "<Figure size 648x648 with 9 Axes>"
      ]
     },
     "metadata": {
      "needs_background": "light"
     },
     "output_type": "display_data"
    }
   ],
   "source": [
    "dls_sub10.show_batch()"
   ]
  },
  {
   "cell_type": "code",
   "execution_count": 11,
   "id": "46fa5595-e789-4205-b3e4-5dadecf558f4",
   "metadata": {},
   "outputs": [
    {
     "data": {
      "image/png": "[encoded data removed]",
      "text/plain": [
       "<Figure size 648x648 with 9 Axes>"
      ]
     },
     "metadata": {
      "needs_background": "light"
     },
     "output_type": "display_data"
    }
   ],
   "source": [
    "dls_sub50.show_batch()"
   ]
  },
  {
   "cell_type": "code",
   "execution_count": 12,
   "id": "62b3b831-08af-460c-891c-528d507839b7",
   "metadata": {},
   "outputs": [
    {
     "data": {
      "image/png": "[encoded data removed]",
      "text/plain": [
       "<Figure size 648x648 with 9 Axes>"
      ]
     },
     "metadata": {
      "needs_background": "light"
     },
     "output_type": "display_data"
    }
   ],
   "source": [
    "dls_sub90.show_batch()"
   ]
  },
  {
   "cell_type": "markdown",
   "id": "632fd6fa-4441-4429-8f04-18d878b01eb8",
   "metadata": {},
   "source": [
    "# modeling - 10 frames"
   ]
  },
  {
   "cell_type": "code",
   "execution_count": 17,
   "id": "c851668e-d904-4ac8-806f-9e541fa3665d",
   "metadata": {},
   "outputs": [
    {
     "data": {
      "text/html": [],
      "text/plain": [
       "<IPython.core.display.HTML object>"
      ]
     },
     "metadata": {},
     "output_type": "display_data"
    },
    {
     "data": {
      "text/plain": [
       "SuggestedLRs(valley=0.0012022644514217973)"
      ]
     },
     "execution_count": 17,
     "metadata": {},
     "output_type": "execute_result"
    },
    {
     "data": {
      "image/png": "[encoded data removed]",
      "text/plain": [
       "<Figure size 432x288 with 1 Axes>"
      ]
     },
     "metadata": {
      "needs_background": "light"
     },
     "output_type": "display_data"
    }
   ],
   "source": [
    "learn = cnn_learner(dls_sub10, resnet34, metrics=error_rate); learn.lr_find()"
   ]
  },
  {
   "cell_type": "code",
   "execution_count": 18,
   "id": "44005521-2599-486f-9d0e-e00f7f6bb0a3",
   "metadata": {},
   "outputs": [
    {
     "data": {
      "text/plain": [
       "FlattenedLoss of CrossEntropyLoss()"
      ]
     },
     "execution_count": 18,
     "metadata": {},
     "output_type": "execute_result"
    }
   ],
   "source": [
    "learn.loss_func"
   ]
  },
  {
   "cell_type": "code",
   "execution_count": 19,
   "id": "2012703b-b289-43b7-845a-46585b13f1d4",
   "metadata": {},
   "outputs": [],
   "source": [
    "# SuggestedLRs(*lrs)\n",
    "#https://github.com/fastai/fastai/blob/master/fastai/callback/schedule.py#L284"
   ]
  },
  {
   "cell_type": "code",
   "execution_count": 20,
   "id": "c27054d3-fe57-4801-a32e-7c9fc9405f6a",
   "metadata": {},
   "outputs": [
    {
     "data": {
      "text/html": [
       "<table border=\"1\" class=\"dataframe\">\n",
       "  <thead>\n",
       "    <tr style=\"text-align: left;\">\n",
       "      <th>epoch</th>\n",
       "      <th>train_loss</th>\n",
       "      <th>valid_loss</th>\n",
       "      <th>error_rate</th>\n",
       "      <th>time</th>\n",
       "    </tr>\n",
       "  </thead>\n",
       "  <tbody>\n",
       "    <tr>\n",
       "      <td>0</td>\n",
       "      <td>0.963473</td>\n",
       "      <td>1.188074</td>\n",
       "      <td>0.510274</td>\n",
       "      <td>00:48</td>\n",
       "    </tr>\n",
       "  </tbody>\n",
       "</table>"
      ],
      "text/plain": [
       "<IPython.core.display.HTML object>"
      ]
     },
     "metadata": {},
     "output_type": "display_data"
    },
    {
     "data": {
      "text/html": [
       "<table border=\"1\" class=\"dataframe\">\n",
       "  <thead>\n",
       "    <tr style=\"text-align: left;\">\n",
       "      <th>epoch</th>\n",
       "      <th>train_loss</th>\n",
       "      <th>valid_loss</th>\n",
       "      <th>error_rate</th>\n",
       "      <th>time</th>\n",
       "    </tr>\n",
       "  </thead>\n",
       "  <tbody>\n",
       "    <tr>\n",
       "      <td>0</td>\n",
       "      <td>0.659791</td>\n",
       "      <td>3.664407</td>\n",
       "      <td>0.864726</td>\n",
       "      <td>01:01</td>\n",
       "    </tr>\n",
       "    <tr>\n",
       "      <td>1</td>\n",
       "      <td>0.592718</td>\n",
       "      <td>1.049868</td>\n",
       "      <td>0.130137</td>\n",
       "      <td>01:00</td>\n",
       "    </tr>\n",
       "    <tr>\n",
       "      <td>2</td>\n",
       "      <td>0.488879</td>\n",
       "      <td>0.434522</td>\n",
       "      <td>0.143836</td>\n",
       "      <td>01:01</td>\n",
       "    </tr>\n",
       "    <tr>\n",
       "      <td>3</td>\n",
       "      <td>0.405658</td>\n",
       "      <td>1.869011</td>\n",
       "      <td>0.746575</td>\n",
       "      <td>01:01</td>\n",
       "    </tr>\n",
       "    <tr>\n",
       "      <td>4</td>\n",
       "      <td>0.317933</td>\n",
       "      <td>0.364628</td>\n",
       "      <td>0.102740</td>\n",
       "      <td>01:00</td>\n",
       "    </tr>\n",
       "    <tr>\n",
       "      <td>5</td>\n",
       "      <td>0.243702</td>\n",
       "      <td>0.379647</td>\n",
       "      <td>0.102740</td>\n",
       "      <td>01:01</td>\n",
       "    </tr>\n",
       "  </tbody>\n",
       "</table>"
      ],
      "text/plain": [
       "<IPython.core.display.HTML object>"
      ]
     },
     "metadata": {},
     "output_type": "display_data"
    }
   ],
   "source": [
    "learn.fine_tune(6, 0.0014454397605732083)"
   ]
  },
  {
   "cell_type": "markdown",
   "id": "b48bedfa-e569-4147-94a4-8bb25a409efe",
   "metadata": {},
   "source": [
    "# modeling - 20 frames"
   ]
  },
  {
   "cell_type": "code",
   "execution_count": 14,
   "id": "5ad5fdff-c363-4f27-890f-0d033fea5965",
   "metadata": {},
   "outputs": [
    {
     "data": {
      "text/html": [],
      "text/plain": [
       "<IPython.core.display.HTML object>"
      ]
     },
     "metadata": {},
     "output_type": "display_data"
    },
    {
     "data": {
      "text/plain": [
       "SuggestedLRs(valley=0.0014454397605732083)"
      ]
     },
     "execution_count": 14,
     "metadata": {},
     "output_type": "execute_result"
    },
    {
     "data": {
      "image/png": "[encoded data removed]",
      "text/plain": [
       "<Figure size 432x288 with 1 Axes>"
      ]
     },
     "metadata": {
      "needs_background": "light"
     },
     "output_type": "display_data"
    }
   ],
   "source": [
    "learn2 = cnn_learner(dls_sub20, resnet34, metrics=error_rate); learn2.lr_find()"
   ]
  },
  {
   "cell_type": "code",
   "execution_count": 23,
   "id": "522d10e0-6573-46aa-ab38-033e5e73ac43",
   "metadata": {},
   "outputs": [
    {
     "data": {
      "text/html": [
       "<table border=\"1\" class=\"dataframe\">\n",
       "  <thead>\n",
       "    <tr style=\"text-align: left;\">\n",
       "      <th>epoch</th>\n",
       "      <th>train_loss</th>\n",
       "      <th>valid_loss</th>\n",
       "      <th>error_rate</th>\n",
       "      <th>time</th>\n",
       "    </tr>\n",
       "  </thead>\n",
       "  <tbody>\n",
       "    <tr>\n",
       "      <td>0</td>\n",
       "      <td>0.896289</td>\n",
       "      <td>0.490739</td>\n",
       "      <td>0.174658</td>\n",
       "      <td>00:48</td>\n",
       "    </tr>\n",
       "  </tbody>\n",
       "</table>"
      ],
      "text/plain": [
       "<IPython.core.display.HTML object>"
      ]
     },
     "metadata": {},
     "output_type": "display_data"
    },
    {
     "data": {
      "text/html": [
       "<table border=\"1\" class=\"dataframe\">\n",
       "  <thead>\n",
       "    <tr style=\"text-align: left;\">\n",
       "      <th>epoch</th>\n",
       "      <th>train_loss</th>\n",
       "      <th>valid_loss</th>\n",
       "      <th>error_rate</th>\n",
       "      <th>time</th>\n",
       "    </tr>\n",
       "  </thead>\n",
       "  <tbody>\n",
       "    <tr>\n",
       "      <td>0</td>\n",
       "      <td>0.585416</td>\n",
       "      <td>1.409516</td>\n",
       "      <td>0.672945</td>\n",
       "      <td>01:01</td>\n",
       "    </tr>\n",
       "    <tr>\n",
       "      <td>1</td>\n",
       "      <td>0.491569</td>\n",
       "      <td>0.422650</td>\n",
       "      <td>0.160959</td>\n",
       "      <td>01:01</td>\n",
       "    </tr>\n",
       "    <tr>\n",
       "      <td>2</td>\n",
       "      <td>0.457538</td>\n",
       "      <td>2.408292</td>\n",
       "      <td>0.828767</td>\n",
       "      <td>01:00</td>\n",
       "    </tr>\n",
       "    <tr>\n",
       "      <td>3</td>\n",
       "      <td>0.411516</td>\n",
       "      <td>0.955733</td>\n",
       "      <td>0.544521</td>\n",
       "      <td>01:01</td>\n",
       "    </tr>\n",
       "    <tr>\n",
       "      <td>4</td>\n",
       "      <td>0.364502</td>\n",
       "      <td>0.408711</td>\n",
       "      <td>0.113014</td>\n",
       "      <td>01:01</td>\n",
       "    </tr>\n",
       "    <tr>\n",
       "      <td>5</td>\n",
       "      <td>0.293382</td>\n",
       "      <td>1.400205</td>\n",
       "      <td>0.128425</td>\n",
       "      <td>01:01</td>\n",
       "    </tr>\n",
       "    <tr>\n",
       "      <td>6</td>\n",
       "      <td>0.226930</td>\n",
       "      <td>0.664640</td>\n",
       "      <td>0.268836</td>\n",
       "      <td>01:01</td>\n",
       "    </tr>\n",
       "    <tr>\n",
       "      <td>7</td>\n",
       "      <td>0.151996</td>\n",
       "      <td>0.577098</td>\n",
       "      <td>0.114726</td>\n",
       "      <td>01:01</td>\n",
       "    </tr>\n",
       "    <tr>\n",
       "      <td>8</td>\n",
       "      <td>0.090906</td>\n",
       "      <td>0.589118</td>\n",
       "      <td>0.099315</td>\n",
       "      <td>01:01</td>\n",
       "    </tr>\n",
       "    <tr>\n",
       "      <td>9</td>\n",
       "      <td>0.052707</td>\n",
       "      <td>0.633567</td>\n",
       "      <td>0.104452</td>\n",
       "      <td>01:01</td>\n",
       "    </tr>\n",
       "    <tr>\n",
       "      <td>10</td>\n",
       "      <td>0.034583</td>\n",
       "      <td>0.573764</td>\n",
       "      <td>0.119863</td>\n",
       "      <td>01:01</td>\n",
       "    </tr>\n",
       "    <tr>\n",
       "      <td>11</td>\n",
       "      <td>0.024004</td>\n",
       "      <td>0.569031</td>\n",
       "      <td>0.118151</td>\n",
       "      <td>01:01</td>\n",
       "    </tr>\n",
       "  </tbody>\n",
       "</table>"
      ],
      "text/plain": [
       "<IPython.core.display.HTML object>"
      ]
     },
     "metadata": {},
     "output_type": "display_data"
    }
   ],
   "source": [
    "learn2.fine_tune(12, 0.0014454397605732083)"
   ]
  },
  {
   "cell_type": "markdown",
   "id": "5ba1422d-292a-4e41-8346-a2054063fd0d",
   "metadata": {},
   "source": [
    "# modeling - 30 frames"
   ]
  },
  {
   "cell_type": "code",
   "execution_count": 15,
   "id": "c4bbe385-a7b6-4db8-a376-1d9bee245d45",
   "metadata": {},
   "outputs": [
    {
     "data": {
      "text/html": [],
      "text/plain": [
       "<IPython.core.display.HTML object>"
      ]
     },
     "metadata": {},
     "output_type": "display_data"
    },
    {
     "data": {
      "text/plain": [
       "SuggestedLRs(valley=0.0020892962347716093)"
      ]
     },
     "execution_count": 15,
     "metadata": {},
     "output_type": "execute_result"
    },
    {
     "data": {
      "image/png": "[encoded data removed]",
      "text/plain": [
       "<Figure size 432x288 with 1 Axes>"
      ]
     },
     "metadata": {
      "needs_background": "light"
     },
     "output_type": "display_data"
    }
   ],
   "source": [
    "learn3 = cnn_learner(dls_sub30, resnet34, metrics=error_rate); learn3.lr_find()"
   ]
  },
  {
   "cell_type": "code",
   "execution_count": 24,
   "id": "b8debf9b-4704-4369-9119-9806521d79a1",
   "metadata": {},
   "outputs": [
    {
     "data": {
      "text/html": [
       "<table border=\"1\" class=\"dataframe\">\n",
       "  <thead>\n",
       "    <tr style=\"text-align: left;\">\n",
       "      <th>epoch</th>\n",
       "      <th>train_loss</th>\n",
       "      <th>valid_loss</th>\n",
       "      <th>error_rate</th>\n",
       "      <th>time</th>\n",
       "    </tr>\n",
       "  </thead>\n",
       "  <tbody>\n",
       "    <tr>\n",
       "      <td>0</td>\n",
       "      <td>0.886852</td>\n",
       "      <td>0.389138</td>\n",
       "      <td>0.111301</td>\n",
       "      <td>00:48</td>\n",
       "    </tr>\n",
       "  </tbody>\n",
       "</table>"
      ],
      "text/plain": [
       "<IPython.core.display.HTML object>"
      ]
     },
     "metadata": {},
     "output_type": "display_data"
    },
    {
     "data": {
      "text/html": [
       "<table border=\"1\" class=\"dataframe\">\n",
       "  <thead>\n",
       "    <tr style=\"text-align: left;\">\n",
       "      <th>epoch</th>\n",
       "      <th>train_loss</th>\n",
       "      <th>valid_loss</th>\n",
       "      <th>error_rate</th>\n",
       "      <th>time</th>\n",
       "    </tr>\n",
       "  </thead>\n",
       "  <tbody>\n",
       "    <tr>\n",
       "      <td>0</td>\n",
       "      <td>0.549481</td>\n",
       "      <td>9.026910</td>\n",
       "      <td>0.888699</td>\n",
       "      <td>01:01</td>\n",
       "    </tr>\n",
       "    <tr>\n",
       "      <td>1</td>\n",
       "      <td>0.457627</td>\n",
       "      <td>19.585054</td>\n",
       "      <td>0.888699</td>\n",
       "      <td>01:01</td>\n",
       "    </tr>\n",
       "    <tr>\n",
       "      <td>2</td>\n",
       "      <td>0.432898</td>\n",
       "      <td>1.031981</td>\n",
       "      <td>0.111301</td>\n",
       "      <td>01:01</td>\n",
       "    </tr>\n",
       "    <tr>\n",
       "      <td>3</td>\n",
       "      <td>0.409916</td>\n",
       "      <td>0.361933</td>\n",
       "      <td>0.095890</td>\n",
       "      <td>01:01</td>\n",
       "    </tr>\n",
       "    <tr>\n",
       "      <td>4</td>\n",
       "      <td>0.351593</td>\n",
       "      <td>0.411559</td>\n",
       "      <td>0.077055</td>\n",
       "      <td>01:00</td>\n",
       "    </tr>\n",
       "    <tr>\n",
       "      <td>5</td>\n",
       "      <td>0.284792</td>\n",
       "      <td>0.403168</td>\n",
       "      <td>0.116438</td>\n",
       "      <td>01:01</td>\n",
       "    </tr>\n",
       "    <tr>\n",
       "      <td>6</td>\n",
       "      <td>0.203622</td>\n",
       "      <td>0.640160</td>\n",
       "      <td>0.229452</td>\n",
       "      <td>01:01</td>\n",
       "    </tr>\n",
       "    <tr>\n",
       "      <td>7</td>\n",
       "      <td>0.113383</td>\n",
       "      <td>0.485112</td>\n",
       "      <td>0.073630</td>\n",
       "      <td>01:01</td>\n",
       "    </tr>\n",
       "    <tr>\n",
       "      <td>8</td>\n",
       "      <td>0.063035</td>\n",
       "      <td>0.470109</td>\n",
       "      <td>0.075342</td>\n",
       "      <td>01:01</td>\n",
       "    </tr>\n",
       "    <tr>\n",
       "      <td>9</td>\n",
       "      <td>0.036306</td>\n",
       "      <td>0.516497</td>\n",
       "      <td>0.070205</td>\n",
       "      <td>01:00</td>\n",
       "    </tr>\n",
       "    <tr>\n",
       "      <td>10</td>\n",
       "      <td>0.020582</td>\n",
       "      <td>0.469562</td>\n",
       "      <td>0.078767</td>\n",
       "      <td>01:01</td>\n",
       "    </tr>\n",
       "    <tr>\n",
       "      <td>11</td>\n",
       "      <td>0.016599</td>\n",
       "      <td>0.458249</td>\n",
       "      <td>0.077055</td>\n",
       "      <td>01:01</td>\n",
       "    </tr>\n",
       "  </tbody>\n",
       "</table>"
      ],
      "text/plain": [
       "<IPython.core.display.HTML object>"
      ]
     },
     "metadata": {},
     "output_type": "display_data"
    }
   ],
   "source": [
    "learn3.fine_tune(12, 0.0020892962347716093)"
   ]
  },
  {
   "cell_type": "markdown",
   "id": "7589961c-0839-43e6-9362-f57cc2616980",
   "metadata": {},
   "source": [
    "# modeling - 40 frames"
   ]
  },
  {
   "cell_type": "code",
   "execution_count": 16,
   "id": "173c143a-c3c8-4b4e-a66a-7e6658b08078",
   "metadata": {},
   "outputs": [
    {
     "data": {
      "text/html": [],
      "text/plain": [
       "<IPython.core.display.HTML object>"
      ]
     },
     "metadata": {},
     "output_type": "display_data"
    },
    {
     "data": {
      "text/plain": [
       "SuggestedLRs(valley=0.004365158267319202)"
      ]
     },
     "execution_count": 16,
     "metadata": {},
     "output_type": "execute_result"
    },
    {
     "data": {
      "image/png": "[encoded data removed]",
      "text/plain": [
       "<Figure size 432x288 with 1 Axes>"
      ]
     },
     "metadata": {
      "needs_background": "light"
     },
     "output_type": "display_data"
    }
   ],
   "source": [
    "learn4 = cnn_learner(dls_sub40, resnet34, metrics=error_rate); learn4.lr_find()"
   ]
  },
  {
   "cell_type": "code",
   "execution_count": 25,
   "id": "cca6177a-bcca-4ded-bd0f-49e79b3e1feb",
   "metadata": {},
   "outputs": [
    {
     "data": {
      "text/html": [
       "<table border=\"1\" class=\"dataframe\">\n",
       "  <thead>\n",
       "    <tr style=\"text-align: left;\">\n",
       "      <th>epoch</th>\n",
       "      <th>train_loss</th>\n",
       "      <th>valid_loss</th>\n",
       "      <th>error_rate</th>\n",
       "      <th>time</th>\n",
       "    </tr>\n",
       "  </thead>\n",
       "  <tbody>\n",
       "    <tr>\n",
       "      <td>0</td>\n",
       "      <td>0.814085</td>\n",
       "      <td>0.358901</td>\n",
       "      <td>0.116438</td>\n",
       "      <td>00:48</td>\n",
       "    </tr>\n",
       "  </tbody>\n",
       "</table>"
      ],
      "text/plain": [
       "<IPython.core.display.HTML object>"
      ]
     },
     "metadata": {},
     "output_type": "display_data"
    },
    {
     "data": {
      "text/html": [
       "<table border=\"1\" class=\"dataframe\">\n",
       "  <thead>\n",
       "    <tr style=\"text-align: left;\">\n",
       "      <th>epoch</th>\n",
       "      <th>train_loss</th>\n",
       "      <th>valid_loss</th>\n",
       "      <th>error_rate</th>\n",
       "      <th>time</th>\n",
       "    </tr>\n",
       "  </thead>\n",
       "  <tbody>\n",
       "    <tr>\n",
       "      <td>0</td>\n",
       "      <td>0.447115</td>\n",
       "      <td>0.362046</td>\n",
       "      <td>0.128425</td>\n",
       "      <td>01:01</td>\n",
       "    </tr>\n",
       "    <tr>\n",
       "      <td>1</td>\n",
       "      <td>0.408331</td>\n",
       "      <td>0.321683</td>\n",
       "      <td>0.094178</td>\n",
       "      <td>01:01</td>\n",
       "    </tr>\n",
       "    <tr>\n",
       "      <td>2</td>\n",
       "      <td>0.413841</td>\n",
       "      <td>0.286524</td>\n",
       "      <td>0.083904</td>\n",
       "      <td>01:01</td>\n",
       "    </tr>\n",
       "    <tr>\n",
       "      <td>3</td>\n",
       "      <td>0.384222</td>\n",
       "      <td>8.494167</td>\n",
       "      <td>0.890411</td>\n",
       "      <td>01:01</td>\n",
       "    </tr>\n",
       "    <tr>\n",
       "      <td>4</td>\n",
       "      <td>0.360347</td>\n",
       "      <td>1.099790</td>\n",
       "      <td>0.109589</td>\n",
       "      <td>01:00</td>\n",
       "    </tr>\n",
       "    <tr>\n",
       "      <td>5</td>\n",
       "      <td>0.299178</td>\n",
       "      <td>0.330431</td>\n",
       "      <td>0.073630</td>\n",
       "      <td>01:01</td>\n",
       "    </tr>\n",
       "    <tr>\n",
       "      <td>6</td>\n",
       "      <td>0.224829</td>\n",
       "      <td>1.079005</td>\n",
       "      <td>0.109589</td>\n",
       "      <td>01:00</td>\n",
       "    </tr>\n",
       "    <tr>\n",
       "      <td>7</td>\n",
       "      <td>0.151593</td>\n",
       "      <td>0.906286</td>\n",
       "      <td>0.368151</td>\n",
       "      <td>01:01</td>\n",
       "    </tr>\n",
       "    <tr>\n",
       "      <td>8</td>\n",
       "      <td>0.068571</td>\n",
       "      <td>0.519968</td>\n",
       "      <td>0.075342</td>\n",
       "      <td>01:00</td>\n",
       "    </tr>\n",
       "    <tr>\n",
       "      <td>9</td>\n",
       "      <td>0.026800</td>\n",
       "      <td>0.498279</td>\n",
       "      <td>0.075342</td>\n",
       "      <td>01:00</td>\n",
       "    </tr>\n",
       "    <tr>\n",
       "      <td>10</td>\n",
       "      <td>0.015402</td>\n",
       "      <td>0.454381</td>\n",
       "      <td>0.077055</td>\n",
       "      <td>01:00</td>\n",
       "    </tr>\n",
       "    <tr>\n",
       "      <td>11</td>\n",
       "      <td>0.008380</td>\n",
       "      <td>0.464313</td>\n",
       "      <td>0.075342</td>\n",
       "      <td>01:01</td>\n",
       "    </tr>\n",
       "  </tbody>\n",
       "</table>"
      ],
      "text/plain": [
       "<IPython.core.display.HTML object>"
      ]
     },
     "metadata": {},
     "output_type": "display_data"
    }
   ],
   "source": [
    "learn4.fine_tune(12, 0.004365158267319202)"
   ]
  },
  {
   "cell_type": "markdown",
   "id": "53c9d33c-7c4e-4b92-af3c-4ed7c1c3e2ea",
   "metadata": {},
   "source": [
    "# modeling - 50 frames"
   ]
  },
  {
   "cell_type": "code",
   "execution_count": 17,
   "id": "caa9ac8e-52d9-41c3-8c56-3c765ef31e3e",
   "metadata": {},
   "outputs": [
    {
     "data": {
      "text/html": [],
      "text/plain": [
       "<IPython.core.display.HTML object>"
      ]
     },
     "metadata": {},
     "output_type": "display_data"
    },
    {
     "data": {
      "text/plain": [
       "SuggestedLRs(valley=0.001737800776027143)"
      ]
     },
     "execution_count": 17,
     "metadata": {},
     "output_type": "execute_result"
    },
    {
     "data": {
      "image/png": "[encoded data removed]",
      "text/plain": [
       "<Figure size 432x288 with 1 Axes>"
      ]
     },
     "metadata": {
      "needs_background": "light"
     },
     "output_type": "display_data"
    }
   ],
   "source": [
    "learn5 = cnn_learner(dls_sub50, resnet34, metrics=error_rate); learn5.lr_find()"
   ]
  },
  {
   "cell_type": "code",
   "execution_count": 26,
   "id": "a5741da0-9116-428b-b8df-aaf355e0d598",
   "metadata": {},
   "outputs": [
    {
     "data": {
      "text/html": [
       "<table border=\"1\" class=\"dataframe\">\n",
       "  <thead>\n",
       "    <tr style=\"text-align: left;\">\n",
       "      <th>epoch</th>\n",
       "      <th>train_loss</th>\n",
       "      <th>valid_loss</th>\n",
       "      <th>error_rate</th>\n",
       "      <th>time</th>\n",
       "    </tr>\n",
       "  </thead>\n",
       "  <tbody>\n",
       "    <tr>\n",
       "      <td>0</td>\n",
       "      <td>0.965943</td>\n",
       "      <td>0.483247</td>\n",
       "      <td>0.227740</td>\n",
       "      <td>00:48</td>\n",
       "    </tr>\n",
       "  </tbody>\n",
       "</table>"
      ],
      "text/plain": [
       "<IPython.core.display.HTML object>"
      ]
     },
     "metadata": {},
     "output_type": "display_data"
    },
    {
     "data": {
      "text/html": [
       "<table border=\"1\" class=\"dataframe\">\n",
       "  <thead>\n",
       "    <tr style=\"text-align: left;\">\n",
       "      <th>epoch</th>\n",
       "      <th>train_loss</th>\n",
       "      <th>valid_loss</th>\n",
       "      <th>error_rate</th>\n",
       "      <th>time</th>\n",
       "    </tr>\n",
       "  </thead>\n",
       "  <tbody>\n",
       "    <tr>\n",
       "      <td>0</td>\n",
       "      <td>0.605415</td>\n",
       "      <td>0.930450</td>\n",
       "      <td>0.469178</td>\n",
       "      <td>01:01</td>\n",
       "    </tr>\n",
       "    <tr>\n",
       "      <td>1</td>\n",
       "      <td>0.494781</td>\n",
       "      <td>0.336066</td>\n",
       "      <td>0.085616</td>\n",
       "      <td>01:01</td>\n",
       "    </tr>\n",
       "    <tr>\n",
       "      <td>2</td>\n",
       "      <td>0.431674</td>\n",
       "      <td>0.462360</td>\n",
       "      <td>0.083904</td>\n",
       "      <td>01:00</td>\n",
       "    </tr>\n",
       "    <tr>\n",
       "      <td>3</td>\n",
       "      <td>0.397607</td>\n",
       "      <td>0.366249</td>\n",
       "      <td>0.082192</td>\n",
       "      <td>01:01</td>\n",
       "    </tr>\n",
       "    <tr>\n",
       "      <td>4</td>\n",
       "      <td>0.329755</td>\n",
       "      <td>0.380325</td>\n",
       "      <td>0.125000</td>\n",
       "      <td>01:00</td>\n",
       "    </tr>\n",
       "    <tr>\n",
       "      <td>5</td>\n",
       "      <td>0.279789</td>\n",
       "      <td>1.394639</td>\n",
       "      <td>0.474315</td>\n",
       "      <td>01:01</td>\n",
       "    </tr>\n",
       "    <tr>\n",
       "      <td>6</td>\n",
       "      <td>0.176226</td>\n",
       "      <td>0.493625</td>\n",
       "      <td>0.126712</td>\n",
       "      <td>01:01</td>\n",
       "    </tr>\n",
       "    <tr>\n",
       "      <td>7</td>\n",
       "      <td>0.107488</td>\n",
       "      <td>0.408677</td>\n",
       "      <td>0.104452</td>\n",
       "      <td>01:01</td>\n",
       "    </tr>\n",
       "    <tr>\n",
       "      <td>8</td>\n",
       "      <td>0.058461</td>\n",
       "      <td>0.497515</td>\n",
       "      <td>0.148973</td>\n",
       "      <td>01:01</td>\n",
       "    </tr>\n",
       "    <tr>\n",
       "      <td>9</td>\n",
       "      <td>0.031243</td>\n",
       "      <td>0.504662</td>\n",
       "      <td>0.082192</td>\n",
       "      <td>01:01</td>\n",
       "    </tr>\n",
       "    <tr>\n",
       "      <td>10</td>\n",
       "      <td>0.023775</td>\n",
       "      <td>0.452677</td>\n",
       "      <td>0.090753</td>\n",
       "      <td>01:00</td>\n",
       "    </tr>\n",
       "    <tr>\n",
       "      <td>11</td>\n",
       "      <td>0.015258</td>\n",
       "      <td>0.476867</td>\n",
       "      <td>0.085616</td>\n",
       "      <td>01:01</td>\n",
       "    </tr>\n",
       "  </tbody>\n",
       "</table>"
      ],
      "text/plain": [
       "<IPython.core.display.HTML object>"
      ]
     },
     "metadata": {},
     "output_type": "display_data"
    }
   ],
   "source": [
    "learn5.fine_tune(12, 0.001737800776027143)"
   ]
  },
  {
   "cell_type": "markdown",
   "id": "dc22e967-0462-4ab1-b54e-a5f624bfbb1f",
   "metadata": {},
   "source": [
    "# modeling - 60 frames"
   ]
  },
  {
   "cell_type": "code",
   "execution_count": 19,
   "id": "6faa54d1-ebfb-4579-94ef-b37927072be1",
   "metadata": {},
   "outputs": [
    {
     "data": {
      "text/html": [],
      "text/plain": [
       "<IPython.core.display.HTML object>"
      ]
     },
     "metadata": {},
     "output_type": "display_data"
    },
    {
     "data": {
      "text/plain": [
       "SuggestedLRs(valley=0.0020892962347716093)"
      ]
     },
     "execution_count": 19,
     "metadata": {},
     "output_type": "execute_result"
    },
    {
     "data": {
      "image/png": "[encoded data removed]",
      "text/plain": [
       "<Figure size 432x288 with 1 Axes>"
      ]
     },
     "metadata": {
      "needs_background": "light"
     },
     "output_type": "display_data"
    }
   ],
   "source": [
    "learn6 = cnn_learner(dls_sub60, resnet34, metrics=error_rate); learn6.lr_find()"
   ]
  },
  {
   "cell_type": "code",
   "execution_count": 27,
   "id": "8f64fe0c-ed53-4367-acbe-21f69e42a384",
   "metadata": {},
   "outputs": [
    {
     "data": {
      "text/html": [
       "<table border=\"1\" class=\"dataframe\">\n",
       "  <thead>\n",
       "    <tr style=\"text-align: left;\">\n",
       "      <th>epoch</th>\n",
       "      <th>train_loss</th>\n",
       "      <th>valid_loss</th>\n",
       "      <th>error_rate</th>\n",
       "      <th>time</th>\n",
       "    </tr>\n",
       "  </thead>\n",
       "  <tbody>\n",
       "    <tr>\n",
       "      <td>0</td>\n",
       "      <td>0.893820</td>\n",
       "      <td>0.497597</td>\n",
       "      <td>0.203767</td>\n",
       "      <td>00:48</td>\n",
       "    </tr>\n",
       "  </tbody>\n",
       "</table>"
      ],
      "text/plain": [
       "<IPython.core.display.HTML object>"
      ]
     },
     "metadata": {},
     "output_type": "display_data"
    },
    {
     "data": {
      "text/html": [
       "<table border=\"1\" class=\"dataframe\">\n",
       "  <thead>\n",
       "    <tr style=\"text-align: left;\">\n",
       "      <th>epoch</th>\n",
       "      <th>train_loss</th>\n",
       "      <th>valid_loss</th>\n",
       "      <th>error_rate</th>\n",
       "      <th>time</th>\n",
       "    </tr>\n",
       "  </thead>\n",
       "  <tbody>\n",
       "    <tr>\n",
       "      <td>0</td>\n",
       "      <td>0.489847</td>\n",
       "      <td>1.206778</td>\n",
       "      <td>0.611301</td>\n",
       "      <td>01:00</td>\n",
       "    </tr>\n",
       "    <tr>\n",
       "      <td>1</td>\n",
       "      <td>0.448984</td>\n",
       "      <td>1.743234</td>\n",
       "      <td>0.652397</td>\n",
       "      <td>01:01</td>\n",
       "    </tr>\n",
       "    <tr>\n",
       "      <td>2</td>\n",
       "      <td>0.429594</td>\n",
       "      <td>0.559859</td>\n",
       "      <td>0.099315</td>\n",
       "      <td>01:00</td>\n",
       "    </tr>\n",
       "    <tr>\n",
       "      <td>3</td>\n",
       "      <td>0.393356</td>\n",
       "      <td>0.801707</td>\n",
       "      <td>0.142123</td>\n",
       "      <td>01:01</td>\n",
       "    </tr>\n",
       "    <tr>\n",
       "      <td>4</td>\n",
       "      <td>0.316911</td>\n",
       "      <td>0.396933</td>\n",
       "      <td>0.095890</td>\n",
       "      <td>01:01</td>\n",
       "    </tr>\n",
       "    <tr>\n",
       "      <td>5</td>\n",
       "      <td>0.260947</td>\n",
       "      <td>0.412346</td>\n",
       "      <td>0.099315</td>\n",
       "      <td>01:00</td>\n",
       "    </tr>\n",
       "    <tr>\n",
       "      <td>6</td>\n",
       "      <td>0.165920</td>\n",
       "      <td>0.456701</td>\n",
       "      <td>0.123288</td>\n",
       "      <td>01:01</td>\n",
       "    </tr>\n",
       "    <tr>\n",
       "      <td>7</td>\n",
       "      <td>0.100680</td>\n",
       "      <td>0.546476</td>\n",
       "      <td>0.143836</td>\n",
       "      <td>01:01</td>\n",
       "    </tr>\n",
       "    <tr>\n",
       "      <td>8</td>\n",
       "      <td>0.056980</td>\n",
       "      <td>0.555574</td>\n",
       "      <td>0.097603</td>\n",
       "      <td>01:00</td>\n",
       "    </tr>\n",
       "    <tr>\n",
       "      <td>9</td>\n",
       "      <td>0.028289</td>\n",
       "      <td>0.524439</td>\n",
       "      <td>0.114726</td>\n",
       "      <td>01:00</td>\n",
       "    </tr>\n",
       "    <tr>\n",
       "      <td>10</td>\n",
       "      <td>0.016668</td>\n",
       "      <td>0.552130</td>\n",
       "      <td>0.101027</td>\n",
       "      <td>01:01</td>\n",
       "    </tr>\n",
       "    <tr>\n",
       "      <td>11</td>\n",
       "      <td>0.012644</td>\n",
       "      <td>0.541441</td>\n",
       "      <td>0.102740</td>\n",
       "      <td>01:01</td>\n",
       "    </tr>\n",
       "  </tbody>\n",
       "</table>"
      ],
      "text/plain": [
       "<IPython.core.display.HTML object>"
      ]
     },
     "metadata": {},
     "output_type": "display_data"
    }
   ],
   "source": [
    "learn6.fine_tune(12, 0.0020892962347716093)"
   ]
  },
  {
   "cell_type": "markdown",
   "id": "1ace0452-40fd-49f3-8ca7-8fc6b4ff3b62",
   "metadata": {},
   "source": [
    "# modeling - 70 frames"
   ]
  },
  {
   "cell_type": "code",
   "execution_count": 20,
   "id": "059a3b22-b4ed-435d-b11c-5e678bb73a23",
   "metadata": {},
   "outputs": [
    {
     "data": {
      "text/html": [],
      "text/plain": [
       "<IPython.core.display.HTML object>"
      ]
     },
     "metadata": {},
     "output_type": "display_data"
    },
    {
     "data": {
      "text/plain": [
       "SuggestedLRs(valley=0.0030199517495930195)"
      ]
     },
     "execution_count": 20,
     "metadata": {},
     "output_type": "execute_result"
    },
    {
     "data": {
      "image/png": "[encoded data removed]",
      "text/plain": [
       "<Figure size 432x288 with 1 Axes>"
      ]
     },
     "metadata": {
      "needs_background": "light"
     },
     "output_type": "display_data"
    }
   ],
   "source": [
    "learn7 = cnn_learner(dls_sub70, resnet34, metrics=error_rate); learn7.lr_find()"
   ]
  },
  {
   "cell_type": "code",
   "execution_count": 28,
   "id": "4fd9ba8a-028d-4d63-96fd-9d2cdd20731b",
   "metadata": {},
   "outputs": [
    {
     "data": {
      "text/html": [
       "<table border=\"1\" class=\"dataframe\">\n",
       "  <thead>\n",
       "    <tr style=\"text-align: left;\">\n",
       "      <th>epoch</th>\n",
       "      <th>train_loss</th>\n",
       "      <th>valid_loss</th>\n",
       "      <th>error_rate</th>\n",
       "      <th>time</th>\n",
       "    </tr>\n",
       "  </thead>\n",
       "  <tbody>\n",
       "    <tr>\n",
       "      <td>0</td>\n",
       "      <td>0.843286</td>\n",
       "      <td>0.500615</td>\n",
       "      <td>0.178082</td>\n",
       "      <td>00:48</td>\n",
       "    </tr>\n",
       "  </tbody>\n",
       "</table>"
      ],
      "text/plain": [
       "<IPython.core.display.HTML object>"
      ]
     },
     "metadata": {},
     "output_type": "display_data"
    },
    {
     "data": {
      "text/html": [
       "<table border=\"1\" class=\"dataframe\">\n",
       "  <thead>\n",
       "    <tr style=\"text-align: left;\">\n",
       "      <th>epoch</th>\n",
       "      <th>train_loss</th>\n",
       "      <th>valid_loss</th>\n",
       "      <th>error_rate</th>\n",
       "      <th>time</th>\n",
       "    </tr>\n",
       "  </thead>\n",
       "  <tbody>\n",
       "    <tr>\n",
       "      <td>0</td>\n",
       "      <td>0.485076</td>\n",
       "      <td>0.464803</td>\n",
       "      <td>0.107877</td>\n",
       "      <td>01:01</td>\n",
       "    </tr>\n",
       "    <tr>\n",
       "      <td>1</td>\n",
       "      <td>0.457152</td>\n",
       "      <td>0.401680</td>\n",
       "      <td>0.109589</td>\n",
       "      <td>01:01</td>\n",
       "    </tr>\n",
       "    <tr>\n",
       "      <td>2</td>\n",
       "      <td>0.403635</td>\n",
       "      <td>0.545462</td>\n",
       "      <td>0.099315</td>\n",
       "      <td>01:01</td>\n",
       "    </tr>\n",
       "    <tr>\n",
       "      <td>3</td>\n",
       "      <td>0.348009</td>\n",
       "      <td>1.503035</td>\n",
       "      <td>0.710616</td>\n",
       "      <td>01:00</td>\n",
       "    </tr>\n",
       "    <tr>\n",
       "      <td>4</td>\n",
       "      <td>0.304673</td>\n",
       "      <td>0.839095</td>\n",
       "      <td>0.291096</td>\n",
       "      <td>01:01</td>\n",
       "    </tr>\n",
       "    <tr>\n",
       "      <td>5</td>\n",
       "      <td>0.219077</td>\n",
       "      <td>0.439585</td>\n",
       "      <td>0.126712</td>\n",
       "      <td>01:00</td>\n",
       "    </tr>\n",
       "    <tr>\n",
       "      <td>6</td>\n",
       "      <td>0.144290</td>\n",
       "      <td>0.821318</td>\n",
       "      <td>0.363014</td>\n",
       "      <td>01:01</td>\n",
       "    </tr>\n",
       "    <tr>\n",
       "      <td>7</td>\n",
       "      <td>0.076390</td>\n",
       "      <td>0.616049</td>\n",
       "      <td>0.092466</td>\n",
       "      <td>01:01</td>\n",
       "    </tr>\n",
       "    <tr>\n",
       "      <td>8</td>\n",
       "      <td>0.040597</td>\n",
       "      <td>0.619634</td>\n",
       "      <td>0.107877</td>\n",
       "      <td>01:00</td>\n",
       "    </tr>\n",
       "    <tr>\n",
       "      <td>9</td>\n",
       "      <td>0.018807</td>\n",
       "      <td>0.621337</td>\n",
       "      <td>0.097603</td>\n",
       "      <td>01:00</td>\n",
       "    </tr>\n",
       "    <tr>\n",
       "      <td>10</td>\n",
       "      <td>0.009598</td>\n",
       "      <td>0.639336</td>\n",
       "      <td>0.095890</td>\n",
       "      <td>01:01</td>\n",
       "    </tr>\n",
       "    <tr>\n",
       "      <td>11</td>\n",
       "      <td>0.005826</td>\n",
       "      <td>0.608275</td>\n",
       "      <td>0.099315</td>\n",
       "      <td>01:01</td>\n",
       "    </tr>\n",
       "  </tbody>\n",
       "</table>"
      ],
      "text/plain": [
       "<IPython.core.display.HTML object>"
      ]
     },
     "metadata": {},
     "output_type": "display_data"
    }
   ],
   "source": [
    "learn7.fine_tune(12, 0.0030199517495930195)"
   ]
  },
  {
   "cell_type": "markdown",
   "id": "19554b32-d937-463f-bb6a-581a9904611e",
   "metadata": {},
   "source": [
    "# modeling - 80 frames"
   ]
  },
  {
   "cell_type": "code",
   "execution_count": 21,
   "id": "4dced12b-19cf-4c3b-a924-e155bbf44f17",
   "metadata": {},
   "outputs": [
    {
     "data": {
      "text/html": [],
      "text/plain": [
       "<IPython.core.display.HTML object>"
      ]
     },
     "metadata": {},
     "output_type": "display_data"
    },
    {
     "data": {
      "text/plain": [
       "SuggestedLRs(valley=0.0020892962347716093)"
      ]
     },
     "execution_count": 21,
     "metadata": {},
     "output_type": "execute_result"
    },
    {
     "data": {
      "image/png": "[encoded data removed]",
      "text/plain": [
       "<Figure size 432x288 with 1 Axes>"
      ]
     },
     "metadata": {
      "needs_background": "light"
     },
     "output_type": "display_data"
    }
   ],
   "source": [
    "learn8 = cnn_learner(dls_sub80, resnet34, metrics=error_rate); learn8.lr_find()"
   ]
  },
  {
   "cell_type": "code",
   "execution_count": 29,
   "id": "f08eb852-b406-4ef4-87d9-882cca6f83bd",
   "metadata": {},
   "outputs": [
    {
     "data": {
      "text/html": [
       "<table border=\"1\" class=\"dataframe\">\n",
       "  <thead>\n",
       "    <tr style=\"text-align: left;\">\n",
       "      <th>epoch</th>\n",
       "      <th>train_loss</th>\n",
       "      <th>valid_loss</th>\n",
       "      <th>error_rate</th>\n",
       "      <th>time</th>\n",
       "    </tr>\n",
       "  </thead>\n",
       "  <tbody>\n",
       "    <tr>\n",
       "      <td>0</td>\n",
       "      <td>0.885063</td>\n",
       "      <td>0.458734</td>\n",
       "      <td>0.145548</td>\n",
       "      <td>00:48</td>\n",
       "    </tr>\n",
       "  </tbody>\n",
       "</table>"
      ],
      "text/plain": [
       "<IPython.core.display.HTML object>"
      ]
     },
     "metadata": {},
     "output_type": "display_data"
    },
    {
     "data": {
      "text/html": [
       "<table border=\"1\" class=\"dataframe\">\n",
       "  <thead>\n",
       "    <tr style=\"text-align: left;\">\n",
       "      <th>epoch</th>\n",
       "      <th>train_loss</th>\n",
       "      <th>valid_loss</th>\n",
       "      <th>error_rate</th>\n",
       "      <th>time</th>\n",
       "    </tr>\n",
       "  </thead>\n",
       "  <tbody>\n",
       "    <tr>\n",
       "      <td>0</td>\n",
       "      <td>0.492496</td>\n",
       "      <td>1.286775</td>\n",
       "      <td>0.609589</td>\n",
       "      <td>01:01</td>\n",
       "    </tr>\n",
       "    <tr>\n",
       "      <td>1</td>\n",
       "      <td>0.425191</td>\n",
       "      <td>1.365498</td>\n",
       "      <td>0.618151</td>\n",
       "      <td>01:01</td>\n",
       "    </tr>\n",
       "    <tr>\n",
       "      <td>2</td>\n",
       "      <td>0.396432</td>\n",
       "      <td>0.805345</td>\n",
       "      <td>0.123288</td>\n",
       "      <td>01:01</td>\n",
       "    </tr>\n",
       "    <tr>\n",
       "      <td>3</td>\n",
       "      <td>0.349951</td>\n",
       "      <td>2.529665</td>\n",
       "      <td>0.763699</td>\n",
       "      <td>01:01</td>\n",
       "    </tr>\n",
       "    <tr>\n",
       "      <td>4</td>\n",
       "      <td>0.282699</td>\n",
       "      <td>0.471123</td>\n",
       "      <td>0.133562</td>\n",
       "      <td>01:01</td>\n",
       "    </tr>\n",
       "    <tr>\n",
       "      <td>5</td>\n",
       "      <td>0.182527</td>\n",
       "      <td>0.569018</td>\n",
       "      <td>0.195205</td>\n",
       "      <td>01:00</td>\n",
       "    </tr>\n",
       "    <tr>\n",
       "      <td>6</td>\n",
       "      <td>0.145914</td>\n",
       "      <td>0.858493</td>\n",
       "      <td>0.385274</td>\n",
       "      <td>01:01</td>\n",
       "    </tr>\n",
       "    <tr>\n",
       "      <td>7</td>\n",
       "      <td>0.095862</td>\n",
       "      <td>0.564708</td>\n",
       "      <td>0.162671</td>\n",
       "      <td>01:01</td>\n",
       "    </tr>\n",
       "    <tr>\n",
       "      <td>8</td>\n",
       "      <td>0.052688</td>\n",
       "      <td>0.590959</td>\n",
       "      <td>0.131849</td>\n",
       "      <td>01:01</td>\n",
       "    </tr>\n",
       "    <tr>\n",
       "      <td>9</td>\n",
       "      <td>0.027409</td>\n",
       "      <td>0.699101</td>\n",
       "      <td>0.114726</td>\n",
       "      <td>01:01</td>\n",
       "    </tr>\n",
       "    <tr>\n",
       "      <td>10</td>\n",
       "      <td>0.014723</td>\n",
       "      <td>0.690429</td>\n",
       "      <td>0.113014</td>\n",
       "      <td>01:01</td>\n",
       "    </tr>\n",
       "    <tr>\n",
       "      <td>11</td>\n",
       "      <td>0.009419</td>\n",
       "      <td>0.685830</td>\n",
       "      <td>0.114726</td>\n",
       "      <td>01:01</td>\n",
       "    </tr>\n",
       "  </tbody>\n",
       "</table>"
      ],
      "text/plain": [
       "<IPython.core.display.HTML object>"
      ]
     },
     "metadata": {},
     "output_type": "display_data"
    }
   ],
   "source": [
    "learn8.fine_tune(12, 0.0020892962347716093)"
   ]
  },
  {
   "cell_type": "markdown",
   "id": "3136f294-b3a2-4213-8516-4e34ba1255ae",
   "metadata": {},
   "source": [
    "# modeling - 90 frames"
   ]
  },
  {
   "cell_type": "code",
   "execution_count": 22,
   "id": "50f84923-e23c-49fe-88f6-fc7b8557e6f8",
   "metadata": {},
   "outputs": [
    {
     "data": {
      "text/html": [],
      "text/plain": [
       "<IPython.core.display.HTML object>"
      ]
     },
     "metadata": {},
     "output_type": "display_data"
    },
    {
     "data": {
      "text/plain": [
       "SuggestedLRs(valley=0.004365158267319202)"
      ]
     },
     "execution_count": 22,
     "metadata": {},
     "output_type": "execute_result"
    },
    {
     "data": {
      "image/png": "[encoded data removed]",
      "text/plain": [
       "<Figure size 432x288 with 1 Axes>"
      ]
     },
     "metadata": {
      "needs_background": "light"
     },
     "output_type": "display_data"
    }
   ],
   "source": [
    "learn9 = cnn_learner(dls_sub90, resnet34, metrics=error_rate); learn9.lr_find()"
   ]
  },
  {
   "cell_type": "code",
   "execution_count": 30,
   "id": "14190ad6-9336-4317-a63c-18f97cb2bdf7",
   "metadata": {},
   "outputs": [
    {
     "data": {
      "text/html": [
       "<table border=\"1\" class=\"dataframe\">\n",
       "  <thead>\n",
       "    <tr style=\"text-align: left;\">\n",
       "      <th>epoch</th>\n",
       "      <th>train_loss</th>\n",
       "      <th>valid_loss</th>\n",
       "      <th>error_rate</th>\n",
       "      <th>time</th>\n",
       "    </tr>\n",
       "  </thead>\n",
       "  <tbody>\n",
       "    <tr>\n",
       "      <td>0</td>\n",
       "      <td>0.754857</td>\n",
       "      <td>0.530963</td>\n",
       "      <td>0.118151</td>\n",
       "      <td>00:48</td>\n",
       "    </tr>\n",
       "  </tbody>\n",
       "</table>"
      ],
      "text/plain": [
       "<IPython.core.display.HTML object>"
      ]
     },
     "metadata": {},
     "output_type": "display_data"
    },
    {
     "data": {
      "text/html": [
       "<table border=\"1\" class=\"dataframe\">\n",
       "  <thead>\n",
       "    <tr style=\"text-align: left;\">\n",
       "      <th>epoch</th>\n",
       "      <th>train_loss</th>\n",
       "      <th>valid_loss</th>\n",
       "      <th>error_rate</th>\n",
       "      <th>time</th>\n",
       "    </tr>\n",
       "  </thead>\n",
       "  <tbody>\n",
       "    <tr>\n",
       "      <td>0</td>\n",
       "      <td>0.387279</td>\n",
       "      <td>4.208028</td>\n",
       "      <td>0.842466</td>\n",
       "      <td>01:01</td>\n",
       "    </tr>\n",
       "    <tr>\n",
       "      <td>1</td>\n",
       "      <td>0.363265</td>\n",
       "      <td>0.480212</td>\n",
       "      <td>0.114726</td>\n",
       "      <td>01:01</td>\n",
       "    </tr>\n",
       "    <tr>\n",
       "      <td>2</td>\n",
       "      <td>0.352841</td>\n",
       "      <td>0.518310</td>\n",
       "      <td>0.174658</td>\n",
       "      <td>01:01</td>\n",
       "    </tr>\n",
       "    <tr>\n",
       "      <td>3</td>\n",
       "      <td>0.310989</td>\n",
       "      <td>0.523878</td>\n",
       "      <td>0.169521</td>\n",
       "      <td>01:01</td>\n",
       "    </tr>\n",
       "    <tr>\n",
       "      <td>4</td>\n",
       "      <td>0.257264</td>\n",
       "      <td>1.328752</td>\n",
       "      <td>0.154110</td>\n",
       "      <td>01:01</td>\n",
       "    </tr>\n",
       "    <tr>\n",
       "      <td>5</td>\n",
       "      <td>0.179571</td>\n",
       "      <td>0.863694</td>\n",
       "      <td>0.126712</td>\n",
       "      <td>01:01</td>\n",
       "    </tr>\n",
       "    <tr>\n",
       "      <td>6</td>\n",
       "      <td>0.111021</td>\n",
       "      <td>0.645052</td>\n",
       "      <td>0.178082</td>\n",
       "      <td>01:00</td>\n",
       "    </tr>\n",
       "    <tr>\n",
       "      <td>7</td>\n",
       "      <td>0.064247</td>\n",
       "      <td>0.592922</td>\n",
       "      <td>0.130137</td>\n",
       "      <td>01:01</td>\n",
       "    </tr>\n",
       "    <tr>\n",
       "      <td>8</td>\n",
       "      <td>0.031592</td>\n",
       "      <td>0.934319</td>\n",
       "      <td>0.111301</td>\n",
       "      <td>01:01</td>\n",
       "    </tr>\n",
       "    <tr>\n",
       "      <td>9</td>\n",
       "      <td>0.015743</td>\n",
       "      <td>0.732953</td>\n",
       "      <td>0.113014</td>\n",
       "      <td>01:01</td>\n",
       "    </tr>\n",
       "    <tr>\n",
       "      <td>10</td>\n",
       "      <td>0.008555</td>\n",
       "      <td>0.780281</td>\n",
       "      <td>0.109589</td>\n",
       "      <td>01:01</td>\n",
       "    </tr>\n",
       "    <tr>\n",
       "      <td>11</td>\n",
       "      <td>0.004249</td>\n",
       "      <td>0.802706</td>\n",
       "      <td>0.111301</td>\n",
       "      <td>01:00</td>\n",
       "    </tr>\n",
       "  </tbody>\n",
       "</table>"
      ],
      "text/plain": [
       "<IPython.core.display.HTML object>"
      ]
     },
     "metadata": {},
     "output_type": "display_data"
    }
   ],
   "source": [
    "learn9.fine_tune(12, 0.004365158267319202)"
   ]
  },
  {
   "cell_type": "code",
   "execution_count": null,
   "id": "10578c46-3c6c-4d68-943b-19169d5ee890",
   "metadata": {},
   "outputs": [],
   "source": []
  }
 ],
 "metadata": {
  "kernelspec": {
   "display_name": "Python 3 (ipykernel)",
   "language": "python",
   "name": "python3"
  },
  "language_info": {
   "codemirror_mode": {
    "name": "ipython",
    "version": 3
   },
   "file_extension": ".py",
   "mimetype": "text/x-python",
   "name": "python",
   "nbconvert_exporter": "python",
   "pygments_lexer": "ipython3",
   "version": "3.8.10"
  }
 },
 "nbformat": 4,
 "nbformat_minor": 5
}
