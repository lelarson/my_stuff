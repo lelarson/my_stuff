{
 "cells": [
  {
   "cell_type": "markdown",
   "id": "830fd926",
   "metadata": {
    "pycharm": {
     "name": "#%% md\n"
    }
   },
   "source": [
    "# Setup"
   ]
  },
  {
   "cell_type": "markdown",
   "id": "0f89d761",
   "metadata": {
    "pycharm": {
     "name": "#%% md\n"
    }
   },
   "source": [
    "## imports"
   ]
  },
  {
   "cell_type": "code",
   "execution_count": 2,
   "id": "8ee06c42",
   "metadata": {
    "collapsed": false,
    "jupyter": {
     "outputs_hidden": false
    },
    "pycharm": {
     "name": "#%%\n"
    }
   },
   "outputs": [],
   "source": [
    "import pandas as pd\n",
    "import os\n",
    "from pandasql import sqldf\n",
    "import numpy as np\n",
    "import seaborn as sns\n",
    "import matplotlib.pyplot as plt\n",
    "import matplotlib.patches as patches\n",
    "# import boto3\n",
    "\n",
    "pd.set_option('display.max_rows', 500)\n",
    "pd.set_option('display.max_columns', 500)\n",
    "pd.set_option('display.width', 1000)\n",
    "pd.set_option('display.max_colwidth', None)\n",
    "\n",
    "pysqldf = lambda q: sqldf(q, globals())"
   ]
  },
  {
   "cell_type": "markdown",
   "id": "a224d4e6",
   "metadata": {},
   "source": [
    "# load data"
   ]
  },
  {
   "cell_type": "code",
   "execution_count": 3,
   "id": "9792dbe8",
   "metadata": {},
   "outputs": [
    {
     "data": {
      "text/html": [
       "<div>\n",
       "<style scoped>\n",
       "    .dataframe tbody tr th:only-of-type {\n",
       "        vertical-align: middle;\n",
       "    }\n",
       "\n",
       "    .dataframe tbody tr th {\n",
       "        vertical-align: top;\n",
       "    }\n",
       "\n",
       "    .dataframe thead th {\n",
       "        text-align: right;\n",
       "    }\n",
       "</style>\n",
       "<table border=\"1\" class=\"dataframe\">\n",
       "  <thead>\n",
       "    <tr style=\"text-align: right;\">\n",
       "      <th></th>\n",
       "      <th>time</th>\n",
       "      <th>x</th>\n",
       "      <th>y</th>\n",
       "      <th>s</th>\n",
       "      <th>a</th>\n",
       "      <th>dis</th>\n",
       "      <th>o</th>\n",
       "      <th>dir</th>\n",
       "      <th>event</th>\n",
       "      <th>nflId</th>\n",
       "      <th>displayName</th>\n",
       "      <th>jerseyNumber</th>\n",
       "      <th>position</th>\n",
       "      <th>team</th>\n",
       "      <th>frameId</th>\n",
       "      <th>gameId</th>\n",
       "      <th>playId</th>\n",
       "      <th>playDirection</th>\n",
       "    </tr>\n",
       "  </thead>\n",
       "  <tbody>\n",
       "    <tr>\n",
       "      <th>0</th>\n",
       "      <td>2021-01-03T18:03:02.200</td>\n",
       "      <td>61.21</td>\n",
       "      <td>46.77</td>\n",
       "      <td>0.08</td>\n",
       "      <td>0.13</td>\n",
       "      <td>0.01</td>\n",
       "      <td>186.21</td>\n",
       "      <td>144.73</td>\n",
       "      <td>None</td>\n",
       "      <td>42901.0</td>\n",
       "      <td>Dean Marlowe</td>\n",
       "      <td>31.0</td>\n",
       "      <td>SS</td>\n",
       "      <td>home</td>\n",
       "      <td>1</td>\n",
       "      <td>2021010300</td>\n",
       "      <td>40</td>\n",
       "      <td>left</td>\n",
       "    </tr>\n",
       "    <tr>\n",
       "      <th>1</th>\n",
       "      <td>2021-01-03T18:03:02.300</td>\n",
       "      <td>61.22</td>\n",
       "      <td>46.77</td>\n",
       "      <td>0.11</td>\n",
       "      <td>0.19</td>\n",
       "      <td>0.01</td>\n",
       "      <td>184.87</td>\n",
       "      <td>126.09</td>\n",
       "      <td>None</td>\n",
       "      <td>42901.0</td>\n",
       "      <td>Dean Marlowe</td>\n",
       "      <td>31.0</td>\n",
       "      <td>SS</td>\n",
       "      <td>home</td>\n",
       "      <td>2</td>\n",
       "      <td>2021010300</td>\n",
       "      <td>40</td>\n",
       "      <td>left</td>\n",
       "    </tr>\n",
       "    <tr>\n",
       "      <th>2</th>\n",
       "      <td>2021-01-03T18:03:02.400</td>\n",
       "      <td>61.23</td>\n",
       "      <td>46.76</td>\n",
       "      <td>0.10</td>\n",
       "      <td>0.18</td>\n",
       "      <td>0.01</td>\n",
       "      <td>183.38</td>\n",
       "      <td>108.95</td>\n",
       "      <td>None</td>\n",
       "      <td>42901.0</td>\n",
       "      <td>Dean Marlowe</td>\n",
       "      <td>31.0</td>\n",
       "      <td>SS</td>\n",
       "      <td>home</td>\n",
       "      <td>3</td>\n",
       "      <td>2021010300</td>\n",
       "      <td>40</td>\n",
       "      <td>left</td>\n",
       "    </tr>\n",
       "  </tbody>\n",
       "</table>\n",
       "</div>"
      ],
      "text/plain": [
       "                      time      x      y     s     a   dis       o     dir event    nflId   displayName  jerseyNumber position  team  frameId      gameId  playId playDirection\n",
       "0  2021-01-03T18:03:02.200  61.21  46.77  0.08  0.13  0.01  186.21  144.73  None  42901.0  Dean Marlowe          31.0       SS  home        1  2021010300      40          left\n",
       "1  2021-01-03T18:03:02.300  61.22  46.77  0.11  0.19  0.01  184.87  126.09  None  42901.0  Dean Marlowe          31.0       SS  home        2  2021010300      40          left\n",
       "2  2021-01-03T18:03:02.400  61.23  46.76  0.10  0.18  0.01  183.38  108.95  None  42901.0  Dean Marlowe          31.0       SS  home        3  2021010300      40          left"
      ]
     },
     "execution_count": 3,
     "metadata": {},
     "output_type": "execute_result"
    }
   ],
   "source": [
    "tracking2020 = pd.read_csv('/Users/logan.larson/code/nfl-big-data-bowl-2022/tracking2020.csv')\n",
    "tracking2019 = pd.read_csv('/Users/logan.larson/code/nfl-big-data-bowl-2022/tracking2019.csv')\n",
    "tracking2018 = pd.read_csv('/Users/logan.larson/code/nfl-big-data-bowl-2022/tracking2018.csv')\n",
    "tracking = tracking2020.append(tracking2019).append(tracking2018)\n",
    "tracking.head(3) \n",
    "\n",
    "# # 3 minutes"
   ]
  },
  {
   "cell_type": "code",
   "execution_count": 4,
   "id": "b6c89e6c",
   "metadata": {},
   "outputs": [
    {
     "data": {
      "text/html": [
       "<div>\n",
       "<style scoped>\n",
       "    .dataframe tbody tr th:only-of-type {\n",
       "        vertical-align: middle;\n",
       "    }\n",
       "\n",
       "    .dataframe tbody tr th {\n",
       "        vertical-align: top;\n",
       "    }\n",
       "\n",
       "    .dataframe thead th {\n",
       "        text-align: right;\n",
       "    }\n",
       "</style>\n",
       "<table border=\"1\" class=\"dataframe\">\n",
       "  <thead>\n",
       "    <tr style=\"text-align: right;\">\n",
       "      <th></th>\n",
       "      <th>gameId</th>\n",
       "      <th>playId</th>\n",
       "      <th>playDescription</th>\n",
       "      <th>quarter</th>\n",
       "      <th>down</th>\n",
       "      <th>yardsToGo</th>\n",
       "      <th>possessionTeam</th>\n",
       "      <th>specialTeamsPlayType</th>\n",
       "      <th>specialTeamsResult</th>\n",
       "      <th>kickerId</th>\n",
       "      <th>returnerId</th>\n",
       "      <th>kickBlockerId</th>\n",
       "      <th>yardlineSide</th>\n",
       "      <th>yardlineNumber</th>\n",
       "      <th>gameClock</th>\n",
       "      <th>penaltyCodes</th>\n",
       "      <th>penaltyJerseyNumbers</th>\n",
       "      <th>penaltyYards</th>\n",
       "      <th>preSnapHomeScore</th>\n",
       "      <th>preSnapVisitorScore</th>\n",
       "      <th>passResult</th>\n",
       "      <th>kickLength</th>\n",
       "      <th>kickReturnYardage</th>\n",
       "      <th>playResult</th>\n",
       "      <th>absoluteYardlineNumber</th>\n",
       "    </tr>\n",
       "  </thead>\n",
       "  <tbody>\n",
       "    <tr>\n",
       "      <th>0</th>\n",
       "      <td>2018090600</td>\n",
       "      <td>37</td>\n",
       "      <td>J.Elliott kicks 65 yards from PHI 35 to end zone, Touchback.</td>\n",
       "      <td>1</td>\n",
       "      <td>0</td>\n",
       "      <td>0</td>\n",
       "      <td>PHI</td>\n",
       "      <td>Kickoff</td>\n",
       "      <td>Touchback</td>\n",
       "      <td>44966.0</td>\n",
       "      <td>NaN</td>\n",
       "      <td>NaN</td>\n",
       "      <td>PHI</td>\n",
       "      <td>35</td>\n",
       "      <td>15:00:00</td>\n",
       "      <td>NaN</td>\n",
       "      <td>NaN</td>\n",
       "      <td>NaN</td>\n",
       "      <td>0</td>\n",
       "      <td>0</td>\n",
       "      <td>NaN</td>\n",
       "      <td>66.0</td>\n",
       "      <td>NaN</td>\n",
       "      <td>40</td>\n",
       "      <td>45</td>\n",
       "    </tr>\n",
       "    <tr>\n",
       "      <th>1</th>\n",
       "      <td>2018090600</td>\n",
       "      <td>366</td>\n",
       "      <td>(9:20) C.Johnston punts 56 yards to ATL 36, Center-R.Lovato. J.Hardy to ATL 41 for 5 yards (K.Grugier-Hill). PENALTY on PHI-S.Gibson, Unsportsmanlike Conduct, 15 yards, enforced at ATL 41.</td>\n",
       "      <td>1</td>\n",
       "      <td>4</td>\n",
       "      <td>4</td>\n",
       "      <td>PHI</td>\n",
       "      <td>Punt</td>\n",
       "      <td>Return</td>\n",
       "      <td>45603.0</td>\n",
       "      <td>42450</td>\n",
       "      <td>NaN</td>\n",
       "      <td>PHI</td>\n",
       "      <td>8</td>\n",
       "      <td>09:20:00</td>\n",
       "      <td>UNSd</td>\n",
       "      <td>PHI 18</td>\n",
       "      <td>-15.0</td>\n",
       "      <td>0</td>\n",
       "      <td>0</td>\n",
       "      <td>NaN</td>\n",
       "      <td>56.0</td>\n",
       "      <td>5.0</td>\n",
       "      <td>36</td>\n",
       "      <td>18</td>\n",
       "    </tr>\n",
       "  </tbody>\n",
       "</table>\n",
       "</div>"
      ],
      "text/plain": [
       "       gameId  playId                                                                                                                                                                               playDescription  quarter  down  yardsToGo possessionTeam specialTeamsPlayType specialTeamsResult  kickerId returnerId  kickBlockerId yardlineSide  yardlineNumber gameClock penaltyCodes penaltyJerseyNumbers  penaltyYards  preSnapHomeScore  preSnapVisitorScore passResult  kickLength  kickReturnYardage  playResult  absoluteYardlineNumber\n",
       "0  2018090600      37                                                                                                                                  J.Elliott kicks 65 yards from PHI 35 to end zone, Touchback.        1     0          0            PHI              Kickoff          Touchback   44966.0        NaN            NaN          PHI              35  15:00:00          NaN                  NaN           NaN                 0                    0        NaN        66.0                NaN          40                      45\n",
       "1  2018090600     366  (9:20) C.Johnston punts 56 yards to ATL 36, Center-R.Lovato. J.Hardy to ATL 41 for 5 yards (K.Grugier-Hill). PENALTY on PHI-S.Gibson, Unsportsmanlike Conduct, 15 yards, enforced at ATL 41.        1     4          4            PHI                 Punt             Return   45603.0      42450            NaN          PHI               8  09:20:00         UNSd               PHI 18         -15.0                 0                    0        NaN        56.0                5.0          36                      18"
      ]
     },
     "execution_count": 4,
     "metadata": {},
     "output_type": "execute_result"
    }
   ],
   "source": [
    "play_detail = pd.read_csv('/Users/logan.larson/code/nfl-big-data-bowl-2022/plays.csv'); play_detail.head(2)"
   ]
  },
  {
   "cell_type": "code",
   "execution_count": 5,
   "id": "ae76d0bf",
   "metadata": {},
   "outputs": [
    {
     "data": {
      "text/html": [
       "<div>\n",
       "<style scoped>\n",
       "    .dataframe tbody tr th:only-of-type {\n",
       "        vertical-align: middle;\n",
       "    }\n",
       "\n",
       "    .dataframe tbody tr th {\n",
       "        vertical-align: top;\n",
       "    }\n",
       "\n",
       "    .dataframe thead th {\n",
       "        text-align: right;\n",
       "    }\n",
       "</style>\n",
       "<table border=\"1\" class=\"dataframe\">\n",
       "  <thead>\n",
       "    <tr style=\"text-align: right;\">\n",
       "      <th></th>\n",
       "      <th>gameId</th>\n",
       "      <th>playId</th>\n",
       "      <th>playResult</th>\n",
       "      <th>fname</th>\n",
       "      <th>label</th>\n",
       "    </tr>\n",
       "  </thead>\n",
       "  <tbody>\n",
       "    <tr>\n",
       "      <th>3</th>\n",
       "      <td>2018090600</td>\n",
       "      <td>677</td>\n",
       "      <td>34</td>\n",
       "      <td>2018090600_677.png</td>\n",
       "      <td>0</td>\n",
       "    </tr>\n",
       "    <tr>\n",
       "      <th>9</th>\n",
       "      <td>2018090600</td>\n",
       "      <td>1606</td>\n",
       "      <td>60</td>\n",
       "      <td>2018090600_1606.png</td>\n",
       "      <td>0</td>\n",
       "    </tr>\n",
       "    <tr>\n",
       "      <th>24</th>\n",
       "      <td>2018090900</td>\n",
       "      <td>36</td>\n",
       "      <td>45</td>\n",
       "      <td>2018090900_36.png</td>\n",
       "      <td>0</td>\n",
       "    </tr>\n",
       "    <tr>\n",
       "      <th>26</th>\n",
       "      <td>2018090900</td>\n",
       "      <td>400</td>\n",
       "      <td>33</td>\n",
       "      <td>2018090900_400.png</td>\n",
       "      <td>0</td>\n",
       "    </tr>\n",
       "    <tr>\n",
       "      <th>39</th>\n",
       "      <td>2018090900</td>\n",
       "      <td>1992</td>\n",
       "      <td>40</td>\n",
       "      <td>2018090900_1992.png</td>\n",
       "      <td>0</td>\n",
       "    </tr>\n",
       "  </tbody>\n",
       "</table>\n",
       "</div>"
      ],
      "text/plain": [
       "        gameId  playId  playResult                fname  label\n",
       "3   2018090600     677          34   2018090600_677.png      0\n",
       "9   2018090600    1606          60  2018090600_1606.png      0\n",
       "24  2018090900      36          45    2018090900_36.png      0\n",
       "26  2018090900     400          33   2018090900_400.png      0\n",
       "39  2018090900    1992          40  2018090900_1992.png      0"
      ]
     },
     "execution_count": 5,
     "metadata": {},
     "output_type": "execute_result"
    }
   ],
   "source": [
    "labels = play_detail.query('specialTeamsPlayType == \"Kickoff\" & specialTeamsResult == \"Return\"')[['gameId', 'playId', 'playResult']]\n",
    "labels['fname'] = labels.apply(lambda row: str(row.gameId) + '_' + str(row.playId) + '.png', axis=1)\n",
    "labels['label'] = labels.apply(lambda row: 1 if row.playResult < 30 else 0 , axis=1)\n",
    "labels.head()"
   ]
  },
  {
   "cell_type": "code",
   "execution_count": 6,
   "id": "83b890b6",
   "metadata": {},
   "outputs": [
    {
     "data": {
      "text/plain": [
       "405"
      ]
     },
     "execution_count": 6,
     "metadata": {},
     "output_type": "execute_result"
    }
   ],
   "source": [
    "labels.label.sum()\n",
    "   "
   ]
  },
  {
   "cell_type": "code",
   "execution_count": 14,
   "id": "b47c05cb",
   "metadata": {},
   "outputs": [
    {
     "data": {
      "text/plain": [
       "2921"
      ]
     },
     "execution_count": 14,
     "metadata": {},
     "output_type": "execute_result"
    }
   ],
   "source": [
    "len(labels)"
   ]
  },
  {
   "cell_type": "markdown",
   "id": "972e0dd2",
   "metadata": {},
   "source": [
    "# simulating individual plays"
   ]
  },
  {
   "cell_type": "code",
   "execution_count": 7,
   "id": "ea0e3fea",
   "metadata": {
    "pycharm": {
     "is_executing": true
    }
   },
   "outputs": [
    {
     "data": {
      "image/png": "[encoded data removed]",
      "text/plain": [
       "<Figure size 864x455.76 with 1 Axes>"
      ]
     },
     "metadata": {
      "needs_background": "light"
     },
     "output_type": "display_data"
    }
   ],
   "source": [
    "def create_football_field(linenumbers=False,\n",
    "                          endzones=True,\n",
    "                          highlight_line=False,\n",
    "                          highlight_line_number=50,\n",
    "                          highlighted_name='Line of Scrimmage',\n",
    "                          fifty_is_los=False,\n",
    "                          figsize=(12, 6.33)):\n",
    "    \"\"\"\n",
    "    Function that plots the football field for viewing plays.\n",
    "    Allows for showing or hiding endzones.\n",
    "    \"\"\"\n",
    "    rect = patches.Rectangle((0, 0), 120, 53.3, linewidth=0.1,\n",
    "                             edgecolor='r', facecolor='white', zorder=0)\n",
    "\n",
    "    fig, ax = plt.subplots(1, figsize=figsize)\n",
    "    ax.add_patch(rect)\n",
    "\n",
    "    plt.plot([10, 10, 10, 20, 20, 30, 30, 40, 40, 50, 50, 60, 60, 70, 70, 80,\n",
    "              80, 90, 90, 100, 100, 110, 110, 120, 0, 0, 120, 120],\n",
    "             [0, 0, 53.3, 53.3, 0, 0, 53.3, 53.3, 0, 0, 53.3, 53.3, 0, 0, 53.3,\n",
    "              53.3, 0, 0, 53.3, 53.3, 0, 0, 53.3, 53.3, 53.3, 0, 0, 53.3],\n",
    "             color='white')\n",
    "    if fifty_is_los:\n",
    "        plt.plot([60, 60], [0, 53.3], color='gold')\n",
    "        plt.text(62, 50, '<- Player Yardline at Snap', color='gold')\n",
    "    # Endzones\n",
    "    if endzones:\n",
    "        ez1 = patches.Rectangle((0, 0), 10, 53.3,\n",
    "                                linewidth=0.1,\n",
    "                                edgecolor='r',\n",
    "                                facecolor='blue',\n",
    "                                alpha=0.2,\n",
    "                                zorder=0)\n",
    "        ez2 = patches.Rectangle((110, 0), 120, 53.3,\n",
    "                                linewidth=0.1,\n",
    "                                edgecolor='r',\n",
    "                                facecolor='blue',\n",
    "                                alpha=0.2,\n",
    "                                zorder=0)\n",
    "        ax.add_patch(ez1)\n",
    "        ax.add_patch(ez2)\n",
    "    plt.xlim(0, 120)\n",
    "    plt.ylim(-5, 58.3)\n",
    "    plt.axis('off')\n",
    "    if linenumbers:\n",
    "        for x in range(20, 110, 10):\n",
    "            numb = x\n",
    "            if x > 50:\n",
    "                numb = 120 - x\n",
    "            plt.text(x, 5, str(numb - 10),\n",
    "                     horizontalalignment='center',\n",
    "                     fontsize=20,  # fontname='Arial',\n",
    "                     color='white')\n",
    "            plt.text(x - 0.95, 53.3 - 5, str(numb - 10),\n",
    "                     horizontalalignment='center',\n",
    "                     fontsize=20,  # fontname='Arial',\n",
    "                     color='white', rotation=180)\n",
    "    if endzones:\n",
    "        hash_range = range(11, 110)\n",
    "    else:\n",
    "        hash_range = range(1, 120)\n",
    "\n",
    "    for x in hash_range:\n",
    "        ax.plot([x, x], [0.4, 0.7], color='white')\n",
    "        ax.plot([x, x], [53.0, 52.5], color='white')\n",
    "        ax.plot([x, x], [22.91, 23.57], color='white')\n",
    "        ax.plot([x, x], [29.73, 30.39], color='white')\n",
    "\n",
    "    if highlight_line:\n",
    "        hl = highlight_line_number + 10\n",
    "        plt.plot([hl, hl], [0, 53.3], color='yellow')\n",
    "        plt.text(hl + 2, 50, '<- {}'.format(highlighted_name),\n",
    "                 color='yellow')\n",
    "    return fig, ax\n",
    "\n",
    "create_football_field()\n",
    "plt.show()"
   ]
  },
  {
   "cell_type": "code",
   "execution_count": 8,
   "id": "b901f0e4",
   "metadata": {
    "pycharm": {
     "is_executing": true
    }
   },
   "outputs": [],
   "source": [
    "def plot_presnap_alignment(df, gameId, playId):\n",
    "    example_play_home = tracking2020.query(f'gameId == {gameID} and playId == {playId} and team == \"home\"')\n",
    "    example_play_away = tracking2020.query(f'gameId == {gameID} and playId == {playId} and team == \"away\"')\n",
    "\n",
    "    fig, ax = create_football_field()\n",
    "    example_play_home.query('event == \"ball_snap\"').plot(x='x', y='y', kind='scatter', ax=ax, color='orange', s=30, legend='Away')\n",
    "    example_play_away.query('event == \"ball_snap\"').plot(x='x', y='y', kind='scatter', ax=ax, color='blue', s=30, legend='Home')\n",
    "    plt.title(f'Game {gameID} Play {playId} at Ball Snap')\n",
    "    plt.legend()\n",
    "    plt.show()\n"
   ]
  },
  {
   "cell_type": "code",
   "execution_count": null,
   "id": "386c41b5",
   "metadata": {},
   "outputs": [
    {
     "name": "stderr",
     "output_type": "stream",
     "text": [
      "No handles with labels found to put in legend.\n"
     ]
    },
    {
     "data": {
      "image/png": "[encoded data removed]",
      "text/plain": [
       "<Figure size 864x455.76 with 1 Axes>"
      ]
     },
     "metadata": {},
     "output_type": "display_data"
    }
   ],
   "source": [
    "example_play_home = tracking.query('gameId == 2021010300 and playId == 395 and team == \"home\"')\n",
    "example_play_away = tracking.query('gameId == 2021010300 and playId == 395 and team == \"away\"')\n",
    "\n",
    "fig, ax = create_football_field()\n",
    "example_play_home.plot(x='x', y='y', kind='scatter', ax=ax, color='orange', s=1, legend='Away')\n",
    "example_play_away.plot(x='x', y='y', kind='scatter', ax=ax, color='blue', s=1, legend='Home')\n",
    "plt.legend()\n",
    "plt.show()\n"
   ]
  },
  {
   "cell_type": "code",
   "execution_count": 18,
   "id": "386c41b5",
   "metadata": {},
   "outputs": [
    {
     "name": "stderr",
     "output_type": "stream",
     "text": [
      "No handles with labels found to put in legend.\n"
     ]
    },
    {
     "data": {
      "image/png": "[encoded data removed]",
      "text/plain": [
       "<Figure size 864x455.76 with 1 Axes>"
      ]
     },
     "metadata": {
      "needs_background": "light"
     },
     "output_type": "display_data"
    }
   ],
   "source": [
    "# plot the first X frames\n",
    "\n",
    "example_play_home = tracking.query('gameId == 2021010300 and playId == 395 and team == \"home\" and frameId < 50')\n",
    "example_play_away = tracking.query('gameId == 2021010300 and playId == 395 and team == \"away\" and frameId < 50')\n",
    "\n",
    "fig, ax = create_football_field()\n",
    "example_play_home.plot(x='x', y='y', kind='scatter', ax=ax, color='orange', s=1, legend='Away')\n",
    "example_play_away.plot(x='x', y='y', kind='scatter', ax=ax, color='blue', s=1, legend='Home')\n",
    "plt.legend()\n",
    "plt.show()\n"
   ]
  },
  {
   "cell_type": "markdown",
   "id": "25e79058",
   "metadata": {
    "pycharm": {
     "name": "#%% md\n"
    }
   },
   "source": [
    "# generate photo dataset"
   ]
  },
  {
   "cell_type": "code",
   "execution_count": 11,
   "id": "37d74202",
   "metadata": {},
   "outputs": [],
   "source": [
    "distinct_playIds = pysqldf(\"\"\"SELECT distinct gameId, playId from labels\"\"\")"
   ]
  },
  {
   "cell_type": "code",
   "execution_count": 12,
   "id": "8a29f5f3",
   "metadata": {},
   "outputs": [],
   "source": [
    "for gameId, playId in distinct_playIds.itertuples(index=False):\n",
    "    home_team_tracking = tracking.query(f'gameId == {gameId} and playId == {playId} and team == \"home\" and frameId < 30')\n",
    "    away_team_tracking = tracking.query(f'gameId == {gameId} and playId == {playId}  and team == \"away\" and frameId < 30')\n",
    "\n",
    "    fig, ax = create_football_field()\n",
    "\n",
    "    home_team_tracking.plot(x='x', y='y', kind='scatter', ax=ax, color='orange', s=1, legend='Away')\n",
    "    away_team_tracking.plot(x='x', y='y', kind='scatter', ax=ax, color='blue', s=1, legend='Home')\n",
    "    filename = f'{gameId}_{playId}'\n",
    "    plt.savefig(f'/Users/logan.larson/code/nfl-big-data-bowl-2022/datasets/kickoff_returns_v2_frame_sub30/{filename}')\n",
    "    plt.close('all')"
   ]
  },
  {
   "cell_type": "code",
   "execution_count": 13,
   "id": "afcb3acc",
   "metadata": {},
   "outputs": [
    {
     "name": "stderr",
     "output_type": "stream",
     "text": [
      "/var/folders/lj/g01_5tgs38z2t4_x54wpk5z00000gq/T/ipykernel_2759/1106490841.py:15: RuntimeWarning: More than 20 figures have been opened. Figures created through the pyplot interface (`matplotlib.pyplot.figure`) are retained until explicitly closed and may consume too much memory. (To control this warning, see the rcParam `figure.max_open_warning`).\n",
      "  fig, ax = plt.subplots(1, figsize=figsize)\n"
     ]
    }
   ],
   "source": [
    "for gameId, playId in distinct_playIds.itertuples(index=False):\n",
    "    home_team_tracking = tracking.query(f'gameId == {gameId} and playId == {playId} and team == \"home\" and frameId < 40')\n",
    "    away_team_tracking = tracking.query(f'gameId == {gameId} and playId == {playId}  and team == \"away\" and frameId < 40')\n",
    "\n",
    "    fig, ax = create_football_field()\n",
    "\n",
    "    home_team_tracking.plot(x='x', y='y', kind='scatter', ax=ax, color='orange', s=1, legend='Away')\n",
    "    away_team_tracking.plot(x='x', y='y', kind='scatter', ax=ax, color='blue', s=1, legend='Home')\n",
    "    filename = f'{gameId}_{playId}'\n",
    "    plt.savefig(f'/Users/logan.larson/code/nfl-big-data-bowl-2022/datasets/kickoff_returns_v2_frame_sub40/{filename}')"
   ]
  },
  {
   "cell_type": "code",
   "execution_count": 23,
   "id": "cca8a425",
   "metadata": {
    "collapsed": false,
    "jupyter": {
     "outputs_hidden": false
    },
    "pycharm": {
     "is_executing": true,
     "name": "#%%\n"
    }
   },
   "outputs": [
    {
     "name": "stderr",
     "output_type": "stream",
     "text": [
      "/var/folders/lj/g01_5tgs38z2t4_x54wpk5z00000gq/T/ipykernel_10121/1106490841.py:15: RuntimeWarning: More than 20 figures have been opened. Figures created through the pyplot interface (`matplotlib.pyplot.figure`) are retained until explicitly closed and may consume too much memory. (To control this warning, see the rcParam `figure.max_open_warning`).\n",
      "  fig, ax = plt.subplots(1, figsize=figsize)\n"
     ]
    }
   ],
   "source": [
    "for gameId, playId in distinct_playIds.itertuples(index=False):\n",
    "    home_team_tracking = tracking.query(f'gameId == {gameId} and playId == {playId} and team == \"home\" and frameId < 50')\n",
    "    away_team_tracking = tracking.query(f'gameId == {gameId} and playId == {playId}  and team == \"away\" and frameId < 50')\n",
    "\n",
    "    fig, ax = create_football_field()\n",
    "\n",
    "    home_team_tracking.plot(x='x', y='y', kind='scatter', ax=ax, color='orange', s=1, legend='Away')\n",
    "    away_team_tracking.plot(x='x', y='y', kind='scatter', ax=ax, color='blue', s=1, legend='Home')\n",
    "    filename = f'{gameId}_{playId}'\n",
    "    plt.savefig(f'/Users/logan.larson/code/nfl-big-data-bowl-2022/datasets/kickoff_returns_v2_frame_sub50/{filename}')"
   ]
  },
  {
   "cell_type": "code",
   "execution_count": null,
   "id": "145b6482",
   "metadata": {},
   "outputs": [],
   "source": [
    "for gameId, playId in distinct_playIds.itertuples(index=False):\n",
    "    home_team_tracking = tracking.query(f'gameId == {gameId} and playId == {playId} and team == \"home\" and frameId < 60')\n",
    "    away_team_tracking = tracking.query(f'gameId == {gameId} and playId == {playId}  and team == \"away\" and frameId < 60')\n",
    "\n",
    "    fig, ax = create_football_field()\n",
    "\n",
    "    home_team_tracking.plot(x='x', y='y', kind='scatter', ax=ax, color='orange', s=1, legend='Away')\n",
    "    away_team_tracking.plot(x='x', y='y', kind='scatter', ax=ax, color='blue', s=1, legend='Home')\n",
    "    filename = f'{gameId}_{playId}'\n",
    "    plt.savefig(f'/Users/logan.larson/code/nfl-big-data-bowl-2022/datasets/kickoff_returns_v2_frame_sub60/{filename}')"
   ]
  },
  {
   "cell_type": "code",
   "execution_count": null,
   "id": "fb982d86",
   "metadata": {},
   "outputs": [],
   "source": [
    "for gameId, playId in distinct_playIds.itertuples(index=False):\n",
    "    home_team_tracking = tracking.query(f'gameId == {gameId} and playId == {playId} and team == \"home\" and frameId < 70')\n",
    "    away_team_tracking = tracking.query(f'gameId == {gameId} and playId == {playId}  and team == \"away\" and frameId < 70')\n",
    "\n",
    "    fig, ax = create_football_field()\n",
    "\n",
    "    home_team_tracking.plot(x='x', y='y', kind='scatter', ax=ax, color='orange', s=1, legend='Away')\n",
    "    away_team_tracking.plot(x='x', y='y', kind='scatter', ax=ax, color='blue', s=1, legend='Home')\n",
    "    filename = f'{gameId}_{playId}'\n",
    "    plt.savefig(f'/Users/logan.larson/code/nfl-big-data-bowl-2022/datasets/kickoff_returns_v2_frame_sub70/{filename}')"
   ]
  },
  {
   "cell_type": "code",
   "execution_count": 8,
   "id": "6be992cf",
   "metadata": {},
   "outputs": [],
   "source": [
    "for gameId, playId in [[2018090600,\t677]]:\n",
    "    home_team_tracking = tracking.query(f'gameId == {gameId} and playId == {playId} and team == \"home\" and frameId < 30')\n",
    "    away_team_tracking = tracking.query(f'gameId == {gameId} and playId == {playId}  and team == \"away\" and frameId < 30')\n",
    "\n",
    "    fig, ax = create_football_field()\n",
    "\n",
    "    home_team_tracking.plot(x='x', y='y', kind='scatter', ax=ax, color='orange', s=1, legend='Away')\n",
    "    away_team_tracking.plot(x='x', y='y', kind='scatter', ax=ax, color='blue', s=1, legend='Home')\n",
    "    filename = f'{gameId}_{playId}'\n",
    "    plt.savefig(f'/Users/logan.larson/code/nfl-big-data-bowl-2022/datasets/test/{filename}')\n",
    "    plt.close('all')"
   ]
  },
  {
   "cell_type": "code",
   "execution_count": null,
   "id": "3e484dd3",
   "metadata": {},
   "outputs": [],
   "source": []
  }
 ],
 "metadata": {
  "interpreter": {
   "hash": "44b9f83d4c2885a4f7d62f1cb8112acb5df3a40fa1622bd2f22720cb6b50fbc2"
  },
  "kernelspec": {
   "display_name": "Python 3 (ipykernel)",
   "language": "python",
   "name": "python3"
  },
  "language_info": {
   "codemirror_mode": {
    "name": "ipython",
    "version": 3
   },
   "file_extension": ".py",
   "mimetype": "text/x-python",
   "name": "python",
   "nbconvert_exporter": "python",
   "pygments_lexer": "ipython3",
   "version": "3.9.1"
  }
 },
 "nbformat": 4,
 "nbformat_minor": 5
}
